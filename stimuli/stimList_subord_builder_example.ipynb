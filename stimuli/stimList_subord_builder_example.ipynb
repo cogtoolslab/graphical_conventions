{
 "cells": [
  {
   "cell_type": "code",
   "execution_count": null,
   "metadata": {
    "collapsed": false
   },
   "outputs": [],
   "source": [
    "import os\n",
    "from os import listdir\n",
    "from os.path import isfile, join\n",
    "mypath = os.getcwd()\n",
    "filenames = [f for f in os.listdir(mypath) if f.endswith('.png')]"
   ]
  },
  {
   "cell_type": "code",
   "execution_count": null,
   "metadata": {
    "collapsed": true
   },
   "outputs": [],
   "source": [
    "categories = ['birds','cars','chairs','dogs']\n",
    "birds = ['crow','pigeon','robin','sparrow','tomtit','nightingale','cuckoo','bluejay']\n",
    "cars = ['beetle','bluesport','brown','white','redsport','redantique','hatchback','bluesedan']\n",
    "chairs = ['straight','squat','leather','sling','woven','waiting','inlay','knob']\n",
    "dogs = ['weimaraner','chihuahua','basset','doberman','bloodhound','bullmastiff','goldenretriever','pug']\n",
    "\n",
    "numViews = 40"
   ]
  },
  {
   "cell_type": "code",
   "execution_count": null,
   "metadata": {
    "collapsed": false
   },
   "outputs": [],
   "source": [
    "filenames[0][0:4] == 'birds'\n",
    "filenames[0][0:4] == 'cars'\n",
    "filenames[0][0:4] == 'chairs'\n",
    "filenames[0][0:4] == 'dogs'\n",
    "\n",
    "basic = filenames[0].split(\"_\")[0]\n",
    "subordinate = filenames[0].split(\"_\")[2]\n",
    "cluster = categories.index(basic)\n",
    "if basic == 'birds':\n",
    "    category = birds\n",
    "elif basic == 'cars':\n",
    "    category = cars\n",
    "elif basic == 'chairs':\n",
    "    category = chairs\n",
    "elif basic == 'dogs':\n",
    "    category = dogs\n",
    "else:\n",
    "    print 'Whups, not a category match!'\n",
    "obj = category.index(subordinate)\n",
    "pose = filenames[0].split(\"_\")[3][0:4]"
   ]
  },
  {
   "cell_type": "code",
   "execution_count": null,
   "metadata": {
    "collapsed": false
   },
   "outputs": [],
   "source": [
    "print filenames[0], basic, subordinate, cluster, obj, pose\n",
    "print int(pose)"
   ]
  },
  {
   "cell_type": "code",
   "execution_count": null,
   "metadata": {
    "collapsed": false
   },
   "outputs": [],
   "source": [
    "text_file = open(\"stimList_subord.js\",\"w\")\n",
    "text_file.write(\"[\") \n",
    "for i in range(len(filenames)):\n",
    "    \n",
    "    basic = filenames[i].split(\"_\")[0]\n",
    "    subordinate = filenames[i].split(\"_\")[2]\n",
    "    cluster = categories.index(basic)\n",
    "    if basic == 'birds':\n",
    "        category = birds\n",
    "    elif basic == 'cars':\n",
    "        category = cars\n",
    "    elif basic == 'chairs':\n",
    "        category = chairs\n",
    "    elif basic == 'dogs':\n",
    "        category = dogs\n",
    "    else:\n",
    "        print 'Whups, not a category match!'\n",
    "    obj = category.index(subordinate)\n",
    "    pose = filenames[i].split(\"_\")[3][0:4] \n",
    "    \n",
    "    line = '{\"filename\": \"' +  filenames[i] + '\" , \"basic\": \"' + basic + '\", \"subordinate\": \"' + subordinate + '\" , \"cluster\": ' + str(cluster) + ', \"object\": ' + str(obj) + ', \"pose\": ' + str(int(pose)) + '},\\n'    \n",
    "    text_file.write(line)    \n",
    "\n",
    "text_file.write(\"];\") \n",
    "text_file.close()"
   ]
  },
  {
   "cell_type": "code",
   "execution_count": null,
   "metadata": {
    "collapsed": false
   },
   "outputs": [],
   "source": [
    "os.getcwd()"
   ]
  },
  {
   "cell_type": "code",
   "execution_count": null,
   "metadata": {
    "collapsed": false
   },
   "outputs": [],
   "source": [
    "line"
   ]
  },
  {
   "cell_type": "code",
   "execution_count": null,
   "metadata": {
    "collapsed": false
   },
   "outputs": [],
   "source": []
  }
 ],
 "metadata": {
  "kernelspec": {
   "display_name": "Python 2",
   "language": "python",
   "name": "python2"
  },
  "language_info": {
   "codemirror_mode": {
    "name": "ipython",
    "version": 2
   },
   "file_extension": ".py",
   "mimetype": "text/x-python",
   "name": "python",
   "nbconvert_exporter": "python",
   "pygments_lexer": "ipython2",
   "version": "2.7.13"
  }
 },
 "nbformat": 4,
 "nbformat_minor": 0
}
