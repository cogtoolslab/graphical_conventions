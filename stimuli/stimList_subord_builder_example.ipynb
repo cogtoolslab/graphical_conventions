{
 "cells": [
  {
   "cell_type": "code",
   "execution_count": 1,
   "metadata": {
    "collapsed": false
   },
   "outputs": [],
   "source": [
    "import os\n",
    "from os import listdir\n",
    "from os.path import isfile, join\n",
    "mypath = os.getcwd()\n",
    "filenames = [f for f in os.listdir(mypath) if f.endswith('.png')]"
   ]
  },
  {
   "cell_type": "code",
   "execution_count": 2,
   "metadata": {
    "collapsed": true
   },
   "outputs": [],
   "source": [
    "categories = ['birds','cars','chairs','dogs']\n",
    "birds = ['crow','pigeon','robin','sparrow','tomtit','nightingale','cuckoo','bluejay']\n",
    "cars = ['beetle','bluesport','brown','white','redsport','redantique','hatchback','bluesedan']\n",
    "chairs = ['straight','squat','leather','sling','woven','waiting','inlay','knob']\n",
    "dogs = ['weimaraner','chihuahua','basset','doberman','bloodhound','bullmastiff','goldenretriever','pug']\n",
    "\n",
    "numViews = 40"
   ]
  },
  {
   "cell_type": "code",
   "execution_count": 3,
   "metadata": {
    "collapsed": false
   },
   "outputs": [
    {
     "ename": "IndexError",
     "evalue": "list index out of range",
     "output_type": "error",
     "traceback": [
      "\u001b[0;31m---------------------------------------------------------------------------\u001b[0m",
      "\u001b[0;31mIndexError\u001b[0m                                Traceback (most recent call last)",
      "\u001b[0;32m<ipython-input-3-d5b402e1791c>\u001b[0m in \u001b[0;36m<module>\u001b[0;34m()\u001b[0m\n\u001b[0;32m----> 1\u001b[0;31m \u001b[0mfilenames\u001b[0m\u001b[0;34m[\u001b[0m\u001b[0;36m0\u001b[0m\u001b[0;34m]\u001b[0m\u001b[0;34m[\u001b[0m\u001b[0;36m0\u001b[0m\u001b[0;34m:\u001b[0m\u001b[0;36m4\u001b[0m\u001b[0;34m]\u001b[0m \u001b[0;34m==\u001b[0m \u001b[0;34m'birds'\u001b[0m\u001b[0;34m\u001b[0m\u001b[0m\n\u001b[0m\u001b[1;32m      2\u001b[0m \u001b[0mfilenames\u001b[0m\u001b[0;34m[\u001b[0m\u001b[0;36m0\u001b[0m\u001b[0;34m]\u001b[0m\u001b[0;34m[\u001b[0m\u001b[0;36m0\u001b[0m\u001b[0;34m:\u001b[0m\u001b[0;36m4\u001b[0m\u001b[0;34m]\u001b[0m \u001b[0;34m==\u001b[0m \u001b[0;34m'cars'\u001b[0m\u001b[0;34m\u001b[0m\u001b[0m\n\u001b[1;32m      3\u001b[0m \u001b[0mfilenames\u001b[0m\u001b[0;34m[\u001b[0m\u001b[0;36m0\u001b[0m\u001b[0;34m]\u001b[0m\u001b[0;34m[\u001b[0m\u001b[0;36m0\u001b[0m\u001b[0;34m:\u001b[0m\u001b[0;36m4\u001b[0m\u001b[0;34m]\u001b[0m \u001b[0;34m==\u001b[0m \u001b[0;34m'chairs'\u001b[0m\u001b[0;34m\u001b[0m\u001b[0m\n\u001b[1;32m      4\u001b[0m \u001b[0mfilenames\u001b[0m\u001b[0;34m[\u001b[0m\u001b[0;36m0\u001b[0m\u001b[0;34m]\u001b[0m\u001b[0;34m[\u001b[0m\u001b[0;36m0\u001b[0m\u001b[0;34m:\u001b[0m\u001b[0;36m4\u001b[0m\u001b[0;34m]\u001b[0m \u001b[0;34m==\u001b[0m \u001b[0;34m'dogs'\u001b[0m\u001b[0;34m\u001b[0m\u001b[0m\n\u001b[1;32m      5\u001b[0m \u001b[0;34m\u001b[0m\u001b[0m\n",
      "\u001b[0;31mIndexError\u001b[0m: list index out of range"
     ]
    }
   ],
   "source": [
    "filenames[0][0:4] == 'birds'\n",
    "filenames[0][0:4] == 'cars'\n",
    "filenames[0][0:4] == 'chairs'\n",
    "filenames[0][0:4] == 'dogs'\n",
    "\n",
    "basic = filenames[0].split(\"_\")[0]\n",
    "subordinate = filenames[0].split(\"_\")[2]\n",
    "cluster = categories.index(basic)\n",
    "if basic == 'birds':\n",
    "    category = birds\n",
    "elif basic == 'cars':\n",
    "    category = cars\n",
    "elif basic == 'chairs':\n",
    "    category = chairs\n",
    "elif basic == 'dogs':\n",
    "    category = dogs\n",
    "else:\n",
    "    print 'Whups, not a category match!'\n",
    "obj = category.index(subordinate)\n",
    "pose = filenames[0].split(\"_\")[3][0:4]"
   ]
  },
  {
   "cell_type": "code",
   "execution_count": 4,
   "metadata": {
    "collapsed": false
   },
   "outputs": [
    {
     "name": "stdout",
     "output_type": "stream",
     "text": [
      "birds_01_crow_0000.png birds crow 0 0 0000\n",
      "0\n"
     ]
    }
   ],
   "source": [
    "print filenames[0], basic, subordinate, cluster, obj, pose\n",
    "print int(pose)"
   ]
  },
  {
   "cell_type": "code",
   "execution_count": 6,
   "metadata": {
    "collapsed": false
   },
   "outputs": [],
   "source": [
    "text_file = open(\"stimList_subord.js\",\"w\")\n",
    "text_file.write(\"[\") \n",
    "for i in range(len(filenames)):\n",
    "    \n",
    "    basic = filenames[i].split(\"_\")[0]\n",
    "    subordinate = filenames[i].split(\"_\")[2]\n",
    "    cluster = categories.index(basic)\n",
    "    if basic == 'birds':\n",
    "        category = birds\n",
    "    elif basic == 'cars':\n",
    "        category = cars\n",
    "    elif basic == 'chairs':\n",
    "        category = chairs\n",
    "    elif basic == 'dogs':\n",
    "        category = dogs\n",
    "    else:\n",
    "        print 'Whups, not a category match!'\n",
    "    obj = category.index(subordinate)\n",
    "    pose = filenames[i].split(\"_\")[3][0:4] \n",
    "    \n",
    "    line = '{\"filename\": \"' +  filenames[i] + '\" , \"basic\": \"' + basic + '\", \"subordinate\": \"' + subordinate + '\" , \"cluster\": ' + str(cluster) + ', \"object\": ' + str(obj) + ', \"pose\": ' + str(int(pose)) + '},\\n'    \n",
    "    text_file.write(line)    \n",
    "\n",
    "text_file.write(\"];\") \n",
    "text_file.close()"
   ]
  },
  {
   "cell_type": "code",
   "execution_count": 7,
   "metadata": {
    "collapsed": false
   },
   "outputs": [
    {
     "data": {
      "text/plain": [
       "'/Users/judithfan/Desktop/sketchloop_subordinate_dset'"
      ]
     },
     "execution_count": 7,
     "metadata": {},
     "output_type": "execute_result"
    }
   ],
   "source": [
    "os.getcwd()"
   ]
  },
  {
   "cell_type": "code",
   "execution_count": 64,
   "metadata": {
    "collapsed": false
   },
   "outputs": [
    {
     "data": {
      "text/plain": [
       "'{\"filename\": \"dogs_08_pug_0039.png\" , \"basic\": \"dogs\", \"subordinate\": \"pug\" , \"cluster\": 3, \"object\": 7, \"pose\": 39},\\n'"
      ]
     },
     "execution_count": 64,
     "metadata": {},
     "output_type": "execute_result"
    }
   ],
   "source": [
    "line"
   ]
  },
  {
   "cell_type": "code",
   "execution_count": null,
   "metadata": {
    "collapsed": false
   },
   "outputs": [],
   "source": []
  }
 ],
 "metadata": {
  "kernelspec": {
   "display_name": "Python 2",
   "language": "python",
   "name": "python2"
  },
  "language_info": {
   "codemirror_mode": {
    "name": "ipython",
    "version": 2
   },
   "file_extension": ".py",
   "mimetype": "text/x-python",
   "name": "python",
   "nbconvert_exporter": "python",
   "pygments_lexer": "ipython2",
   "version": "2.7.12"
  }
 },
 "nbformat": 4,
 "nbformat_minor": 0
}
