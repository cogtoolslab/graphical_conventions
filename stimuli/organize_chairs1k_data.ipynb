{
 "cells": [
  {
   "cell_type": "code",
   "execution_count": 19,
   "metadata": {},
   "outputs": [],
   "source": [
    "import os\n",
    "import shutil\n",
    "import numpy as np\n",
    "import pandas as pd"
   ]
  },
  {
   "cell_type": "code",
   "execution_count": 6,
   "metadata": {},
   "outputs": [],
   "source": [
    "## path definitions\n",
    "path_to_chairs1k = './chairs1k_triplets'\n",
    "path_to_close = os.path.join(path_to_chairs1k,'close')\n",
    "path_to_far = os.path.join(path_to_chairs1k,'far')"
   ]
  },
  {
   "cell_type": "code",
   "execution_count": 61,
   "metadata": {},
   "outputs": [],
   "source": [
    "## helpers\n",
    "def load_subdir_paths(path):\n",
    "    subdirs = [i for i in os.listdir(path) if i != '.DS_Store']\n",
    "    subdirs = sorted(subdirs)\n",
    "    paths = [os.path.join(path,i) for i in subdirs]\n",
    "    paths = [i for i in paths if 'txt' not in i]\n",
    "    return paths\n",
    "\n",
    "def load_invalid_list(path='./manually_discarded_triplets.txt'):\n",
    "    df = pd.read_csv(path,header=None)\n",
    "    invalid_array = sorted(df[0].values)\n",
    "    invalids = map(str,invalid_array)\n",
    "    return invalids\n"
   ]
  },
  {
   "cell_type": "code",
   "execution_count": 62,
   "metadata": {},
   "outputs": [],
   "source": [
    "## load in list of invalid triplet ids so we can exclude them (some contain duplicates)\n",
    "invalids = load_invalid_list()\n",
    "\n",
    "## build subdir path list\n",
    "close_subdirs = load_subdir_paths(path_to_close)\n",
    "far_subdirs = load_subdir_paths(path_to_far)"
   ]
  },
  {
   "cell_type": "code",
   "execution_count": null,
   "metadata": {},
   "outputs": [],
   "source": []
  },
  {
   "cell_type": "code",
   "execution_count": 45,
   "metadata": {},
   "outputs": [
    {
     "data": {
      "text/plain": [
       "False"
      ]
     },
     "execution_count": 45,
     "metadata": {},
     "output_type": "execute_result"
    }
   ],
   "source": [
    "ignore_invalids = False\n",
    "\n",
    "(ignore_invalids) & ('54' in invalids)"
   ]
  },
  {
   "cell_type": "code",
   "execution_count": 48,
   "metadata": {},
   "outputs": [],
   "source": [
    "sample_subdir = close_subdirs[0]\n",
    "im_files = os.listdir(sample_subdir)"
   ]
  },
  {
   "cell_type": "code",
   "execution_count": 53,
   "metadata": {},
   "outputs": [],
   "source": [
    "shutil.copy(os.path.join(sample_subdir,im),\n",
    "           os.path.join(pooled_path, im))"
   ]
  },
  {
   "cell_type": "code",
   "execution_count": 54,
   "metadata": {},
   "outputs": [
    {
     "name": "stdout",
     "output_type": "stream",
     "text": [
      "0_4178e43e2756f1d0af7a8f97983e7906.png  extract_features.py\r\n",
      "\u001b[34mchairs1k_triplets\u001b[m\u001b[m/                      manually_discarded_triplets.txt\r\n",
      "embedding.py                            organize_chairs1k_data.ipynb\r\n",
      "extract_chairs1k_features.ipynb\r\n"
     ]
    }
   ],
   "source": [
    "# os.path.join(sample_subdir,im_files[0])\n",
    "# './{}'.format(im_files[0])\n",
    "%ls"
   ]
  },
  {
   "cell_type": "code",
   "execution_count": null,
   "metadata": {},
   "outputs": [],
   "source": []
  },
  {
   "cell_type": "code",
   "execution_count": 97,
   "metadata": {},
   "outputs": [],
   "source": [
    "## first we want to create a directory (if it does not already exist (see os.path.exists!)) \n",
    "## to hold our pooled chairs from both CLOSE and Far\n",
    "pooled_path = './chairs1k_pooled'\n",
    "if not os.path.exists(pooled_path):\n",
    "    os.makedirs(pooled_path)\n",
    "\n",
    "## now we want to loop through the each of the close/far subdirs, and shutil.copy the images inside each into\n",
    "## the pooled directory \n",
    "## let's set a flag to IGNORE a subdir if its subdir number matches any number in the manually_discarded_triplets.txt file\n",
    "ignore_invalids = True\n",
    "## Close\n",
    "for subdir in close_subdirs:\n",
    "#     print subdir\n",
    "    if (close_subdirs[0].split('/')[-1] not in invalids) | (ignore_invalids==False):\n",
    "        ## proceed IFF the subdir is NOT in the list of invalids OR if ignore_invalids is false\n",
    "        im_files = os.listdir(subdir)\n",
    "        for im in im_files:\n",
    "            shutil.copy(os.path.join(subdir,im),os.path.join(pooled_path, im))\n",
    " ##Far\n",
    "for subdir in far_subdirs:\n",
    "    if (far_subdirs[0].split('/')[-1] not in invalids) | (ignore_invalids==False):\n",
    "        im_files = os.listdir(subdir)\n",
    "        for im in im_files:\n",
    "            shutil.copy(os.path.join(subdir,im),os.path.join(pooled_path, im))\n",
    "\n",
    "    \n",
    "\n"
   ]
  },
  {
   "cell_type": "code",
   "execution_count": 98,
   "metadata": {},
   "outputs": [
    {
     "name": "stdout",
     "output_type": "stream",
     "text": [
      "There are 4829 many chairs in the pooled path\n"
     ]
    }
   ],
   "source": [
    "## then check how many images are in the pooled directory, it should be > 1138\n",
    "print 'There are {} many chairs in the pooled path'.format(len(os.listdir(pooled_path)))"
   ]
  },
  {
   "cell_type": "code",
   "execution_count": 99,
   "metadata": {},
   "outputs": [],
   "source": [
    "## now we go through and remove the triplet id from the image name ... \n",
    "im_files = os.listdir(pooled_path)\n",
    "for im in im_files:\n",
    "    trunc_name = im.split('_')[1]\n",
    "    src = os.path.join(pooled_path, im)\n",
    "    dst = os.path.join(pooled_path,trunc_name)\n",
    "    os.rename(src, dst)"
   ]
  },
  {
   "cell_type": "code",
   "execution_count": 100,
   "metadata": {},
   "outputs": [
    {
     "name": "stdout",
     "output_type": "stream",
     "text": [
      "There are 3316 many chairs in the pooled path\n"
     ]
    }
   ],
   "source": [
    "## then check how many images are in the pooled directory, it should be > 1138\n",
    "print 'There are {} many chairs in the pooled path, should be fewer than above!'.format(len(os.listdir(pooled_path)))"
   ]
  },
  {
   "cell_type": "code",
   "execution_count": null,
   "metadata": {},
   "outputs": [],
   "source": []
  },
  {
   "cell_type": "code",
   "execution_count": null,
   "metadata": {},
   "outputs": [],
   "source": []
  },
  {
   "cell_type": "code",
   "execution_count": null,
   "metadata": {},
   "outputs": [],
   "source": []
  },
  {
   "cell_type": "code",
   "execution_count": null,
   "metadata": {},
   "outputs": [],
   "source": []
  }
 ],
 "metadata": {
  "kernelspec": {
   "display_name": "Python 2",
   "language": "python",
   "name": "python2"
  },
  "language_info": {
   "codemirror_mode": {
    "name": "ipython",
    "version": 2
   },
   "file_extension": ".py",
   "mimetype": "text/x-python",
   "name": "python",
   "nbconvert_exporter": "python",
   "pygments_lexer": "ipython2",
   "version": "2.7.15"
  }
 },
 "nbformat": 4,
 "nbformat_minor": 2
}
