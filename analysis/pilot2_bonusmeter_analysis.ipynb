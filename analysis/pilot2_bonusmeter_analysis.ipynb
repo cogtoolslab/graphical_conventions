{
 "cells": [
  {
   "cell_type": "code",
   "execution_count": 1,
   "metadata": {
    "collapsed": true
   },
   "outputs": [],
   "source": [
    "import os\n",
    "import urllib, cStringIO\n",
    "\n",
    "import pymongo as pm\n",
    "\n",
    "import matplotlib\n",
    "from matplotlib import pylab, mlab, pyplot\n",
    "%matplotlib inline\n",
    "from IPython.core.pylabtools import figsize, getfigs\n",
    "plt = pyplot\n",
    "import seaborn as sns\n",
    "sns.set_context('poster')\n",
    "sns.set_style('white')\n",
    "\n",
    "import numpy as np\n",
    "from __future__ import division\n",
    "import scipy.stats as stats\n",
    "import tabular as tb\n",
    "import pandas as pd\n",
    "import json\n",
    "import re\n",
    "\n",
    "from PIL import Image\n",
    "import base64"
   ]
  },
  {
   "cell_type": "code",
   "execution_count": null,
   "metadata": {
    "collapsed": true
   },
   "outputs": [],
   "source": []
  },
  {
   "cell_type": "code",
   "execution_count": 2,
   "metadata": {
    "collapsed": true
   },
   "outputs": [],
   "source": [
    "# directory & file hierarchy\n",
    "analysis_dir = os.getcwd()\n",
    "exp_dir = os.path.abspath(os.path.join(os.getcwd(),'..','experiments'))\n",
    "sketch_dir = os.path.abspath(os.path.join(os.getcwd(),'..','sketches'))"
   ]
  },
  {
   "cell_type": "code",
   "execution_count": 4,
   "metadata": {
    "collapsed": true
   },
   "outputs": [],
   "source": [
    "# set vars \n",
    "auth = pd.read_csv('auth.txt', header = None) # this auth.txt file contains the password for the sketchloop user\n",
    "pswd = auth.values[0][0]\n",
    "user = 'sketchloop'\n",
    "host = 'rxdhawkins.me' ## cocolab ip address\n",
    "\n",
    "# have to fix this to be able to analyze from local\n",
    "import pymongo as pm\n",
    "conn = pm.MongoClient('mongodb://sketchloop:' + pswd + '@127.0.0.1')\n",
    "db = conn['3dObjects']\n",
    "coll = db['sketchpad_repeated']\n",
    "\n",
    "# which iteration name should we use?\n",
    "iterationName = 'testing2'"
   ]
  },
  {
   "cell_type": "code",
   "execution_count": 5,
   "metadata": {
    "collapsed": false
   },
   "outputs": [
    {
     "name": "stdout",
     "output_type": "stream",
     "text": [
      "2 stroke records in the database.\n",
      "2 clickedObj records in the database.\n"
     ]
    }
   ],
   "source": [
    "S = coll.find({ '$and': [{'iterationName':iterationName}, {'eventType': 'stroke'}]}).sort('time')\n",
    "C = coll.find({ '$and': [{'iterationName':iterationName}, {'eventType': 'clickedObj'}]}).sort('time')\n",
    "print str(S.count()) + ' stroke records in the database.'\n",
    "print str(C.count()) + ' clickedObj records in the database.'"
   ]
  },
  {
   "cell_type": "code",
   "execution_count": 7,
   "metadata": {
    "collapsed": false
   },
   "outputs": [
    {
     "name": "stdout",
     "output_type": "stream",
     "text": [
      "goldenretriever\n",
      "M160,236c-58.04757,0 -171.12977,-142.92761 -114,-189c87.15135,-70.28335 250.28388,79.93369 195,160c-16.70816,24.19802 -99.63494,16.0287 -90,-36c3.25581,-17.58139 39.83143,-30.16857 53,-17c5.38765,5.38765 -12,2.53551 -12,7\n",
      "basset\n",
      "M84,157c0,27.37047 2.09602,54.70968 4,82c0.18006,2.58088 -2.79809,30.70032 5,32c15.54614,2.59102 33.13024,-6.08436 48,-9c25.00409,-4.90276 82.89994,-13.70002 109,-5c0.44721,0.14907 -0.53501,1.0775 -1,1c-9.71268,-1.61878 -16.26077,-17.62515 -19,-25c-7.095,-19.10192 -11.83527,-39.05314 -16,-59c-4.90568,-23.49565 -8.40432,-47.26854 -12,-71c-1.3221,-8.72588 -3.26918,-17.34592 -5,-26c-0.32686,-1.6343 1.6641,-5.09245 0,-5c-15.79735,0.87763 -31.24915,4.68743 -47,6c-9.28291,0.77358 -23.47331,-3.26334 -32,1c-11.52217,5.76108 9.73985,59.15102 13,68c5.77941,15.68696 10.59984,31.86606 15,48c0.53349,1.95614 -0.81353,5.09324 1,6c1.57984,0.78992 15.88155,-2.90274 17,-3c12.17673,-1.05885 28.15191,0.96202 40,-2c8.19753,-2.04938 -12.94789,-40.18567 -15,-46c-5.46772,-15.49189 -1.94303,-25.97151 -16,-33c-4.671,-2.3355 -7.20324,3.4332 -9,6c-1.77485,2.5355 -12.0246,11.46311 -9,16c2.47421,3.71132 6.46769,6.20154 9,10c0.4898,0.7347 2.61712,3.85136 3,5c0.63246,1.89737 -0.28284,4.0201 0,6c0.24037,1.68259 1,3.30033 1,5c0,1 0,2 0,3\n"
     ]
    }
   ],
   "source": [
    "a = coll.find({ '$and': [{'iterationName':iterationName}, {'eventType': 'stroke'}]}).sort('time')\n",
    "for rec in a:\n",
    "    print rec['intendedName']\n",
    "    print rec['svgData']"
   ]
  },
  {
   "cell_type": "code",
   "execution_count": 8,
   "metadata": {
    "collapsed": false
   },
   "outputs": [
    {
     "data": {
      "text/plain": [
       "{u'_id': ObjectId('5b3fcaf6856a53143ff6831a'),\n",
       " u'assignmentId': u'',\n",
       " u'currStrokeNum': u'1',\n",
       " u'eventType': u'stroke',\n",
       " u'gameid': u'2634-6f5b3bdf-fbdb-4afa-8592-ec7c9da4f05d',\n",
       " u'intendedName': u'basset',\n",
       " u'iterationName': u'testing2',\n",
       " u'score': u'0',\n",
       " u'shiftKeyUsed': u'0',\n",
       " u'svgData': u'M84,157c0,27.37047 2.09602,54.70968 4,82c0.18006,2.58088 -2.79809,30.70032 5,32c15.54614,2.59102 33.13024,-6.08436 48,-9c25.00409,-4.90276 82.89994,-13.70002 109,-5c0.44721,0.14907 -0.53501,1.0775 -1,1c-9.71268,-1.61878 -16.26077,-17.62515 -19,-25c-7.095,-19.10192 -11.83527,-39.05314 -16,-59c-4.90568,-23.49565 -8.40432,-47.26854 -12,-71c-1.3221,-8.72588 -3.26918,-17.34592 -5,-26c-0.32686,-1.6343 1.6641,-5.09245 0,-5c-15.79735,0.87763 -31.24915,4.68743 -47,6c-9.28291,0.77358 -23.47331,-3.26334 -32,1c-11.52217,5.76108 9.73985,59.15102 13,68c5.77941,15.68696 10.59984,31.86606 15,48c0.53349,1.95614 -0.81353,5.09324 1,6c1.57984,0.78992 15.88155,-2.90274 17,-3c12.17673,-1.05885 28.15191,0.96202 40,-2c8.19753,-2.04938 -12.94789,-40.18567 -15,-46c-5.46772,-15.49189 -1.94303,-25.97151 -16,-33c-4.671,-2.3355 -7.20324,3.4332 -9,6c-1.77485,2.5355 -12.0246,11.46311 -9,16c2.47421,3.71132 6.46769,6.20154 9,10c0.4898,0.7347 2.61712,3.85136 3,5c0.63246,1.89737 -0.28284,4.0201 0,6c0.24037,1.68259 1,3.30033 1,5c0,1 0,2 0,3',\n",
       " u'time': 1530907382003.0,\n",
       " u'trialNum': 2,\n",
       " u'workerId': u''}"
      ]
     },
     "execution_count": 8,
     "metadata": {},
     "output_type": "execute_result"
    }
   ],
   "source": [
    "rec"
   ]
  },
  {
   "cell_type": "code",
   "execution_count": null,
   "metadata": {
    "collapsed": true
   },
   "outputs": [],
   "source": []
  }
 ],
 "metadata": {
  "kernelspec": {
   "display_name": "Python 2",
   "language": "python",
   "name": "python2"
  },
  "language_info": {
   "codemirror_mode": {
    "name": "ipython",
    "version": 2
   },
   "file_extension": ".py",
   "mimetype": "text/x-python",
   "name": "python",
   "nbconvert_exporter": "python",
   "pygments_lexer": "ipython2",
   "version": "2.7.13"
  }
 },
 "nbformat": 4,
 "nbformat_minor": 1
}
