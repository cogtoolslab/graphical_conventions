{
 "cells": [
  {
   "cell_type": "code",
   "execution_count": 2,
   "metadata": {},
   "outputs": [
    {
     "name": "stderr",
     "output_type": "stream",
     "text": [
      "/Users/megumisano/anaconda/envs/py27/lib/python2.7/site-packages/scipy/spatial/__init__.py:96: ImportWarning: Not importing directory '/Users/megumisano/anaconda/envs/py27/lib/python2.7/site-packages/scipy/spatial/qhull': missing __init__.py\n",
      "  from .qhull import *\n",
      "/Users/megumisano/anaconda/envs/py27/lib/python2.7/site-packages/scipy/optimize/_minimize.py:37: ImportWarning: Not importing directory '/Users/megumisano/anaconda/envs/py27/lib/python2.7/site-packages/scipy/optimize/lbfgsb': missing __init__.py\n",
      "  from .lbfgsb import _minimize_lbfgsb\n"
     ]
    }
   ],
   "source": [
    "from __future__ import division\n",
    "import os, sys\n",
    "import urllib, cStringIO\n",
    "import pymongo as pm ## first establish ssh tunnel to server where database is running\n",
    "import base64\n",
    "import numpy as np\n",
    "from numpy import *\n",
    "import PIL\n",
    "from PIL import Image\n",
    "import base64\n",
    "import matplotlib\n",
    "from matplotlib import pylab, mlab, pyplot\n",
    "from IPython.core.pylabtools import figsize, getfigs\n",
    "plt = pyplot\n",
    "import seaborn as sns\n",
    "sns.set_context('poster')\n",
    "sns.set_style('white')\n",
    "from matplotlib.path import Path\n",
    "import matplotlib.patches as patches\n",
    "\n",
    "import pandas as pd\n",
    "from svgpathtools import parse_path, wsvg, svg2paths"
   ]
  },
  {
   "cell_type": "markdown",
   "metadata": {},
   "source": [
    "### setup"
   ]
  },
  {
   "cell_type": "code",
   "execution_count": 3,
   "metadata": {},
   "outputs": [
    {
     "data": {
      "text/plain": [
       "<module 'svg_rendering_helpers' from '/Users/megumisano/graphical_conventions/analysis/python/svg_rendering_helpers.pyc'>"
      ]
     },
     "execution_count": 3,
     "metadata": {},
     "output_type": "execute_result"
    }
   ],
   "source": [
    "# directory & file hierarchy\n",
    "proj_dir = os.path.abspath('../../..')\n",
    "analysis_dir = os.getcwd()\n",
    "results_dir = os.path.join(proj_dir,'results')\n",
    "plot_dir = os.path.join(results_dir,'plots')\n",
    "csv_dir = os.path.join(results_dir,'csv')\n",
    "exp_dir = os.path.abspath(os.path.join(proj_dir,'experiments'))\n",
    "sketch_dir = os.path.abspath(os.path.join(proj_dir,'sketches'))\n",
    "\n",
    "## add helpers to python path\n",
    "if os.path.join(proj_dir,'analysis','python') not in sys.path:\n",
    "    sys.path.insert(1,os.path.join(proj_dir,'analysis','python'))\n",
    "    \n",
    "if not os.path.exists(results_dir):\n",
    "    os.makedirs(results_dir)\n",
    "    \n",
    "if not os.path.exists(plot_dir):\n",
    "    os.makedirs(plot_dir)   \n",
    "    \n",
    "if not os.path.exists(csv_dir):\n",
    "    os.makedirs(csv_dir)       \n",
    "    \n",
    "# Assign variables within imported analysis helpers\n",
    "import analysis_helpers as h\n",
    "if sys.version_info[0]>=3:\n",
    "    from importlib import reload\n",
    "reload(h)\n",
    "\n",
    "import svg_rendering_helpers as srh\n",
    "reload(srh)"
   ]
  },
  {
   "cell_type": "code",
   "execution_count": 4,
   "metadata": {
    "collapsed": true
   },
   "outputs": [],
   "source": [
    "# set vars \n",
    "auth = pd.read_csv('auth.txt', header = None) # this auth.txt file contains the password for the sketchloop user\n",
    "pswd = auth.values[0][0]\n",
    "user = 'sketchloop'\n",
    "host = 'rxdhawkins.me' ## cocolab ip address\n",
    "\n",
    "# have to fix this to be able to analyze from local\n",
    "import pymongo as pm\n",
    "conn = pm.MongoClient('mongodb://sketchloop:' + pswd + '@127.0.0.1')\n",
    "db = conn['3dObjects']\n",
    "coll = db['graphical_conventions']\n",
    "\n",
    "# which iteration name should we use?\n",
    "## \"good\" iterations that we currently combine: ['run3_size4_waiting', 'run4_generalization']\n",
    "iterationNames = ['run3_size4_waiting', 'run4_generalization']"
   ]
  },
  {
   "cell_type": "markdown",
   "metadata": {},
   "source": [
    "#### wsvg arguments\n",
    "```\n",
    "wsvg(paths=None, colors=None, filename=join, stroke_widths=None, nodes=None, node_colors=None, node_radii=None, openinbrowser=False, timestamp=False, margin_size=0.1, mindim=600, dimensions=None, viewbox=None, text=None, text_path=None, font_size=None, attributes=None, svg_attributes=None)\n",
    "```"
   ]
  },
  {
   "cell_type": "markdown",
   "metadata": {},
   "source": [
    "### what we need (tests on single sketches)"
   ]
  },
  {
   "cell_type": "markdown",
   "metadata": {},
   "source": [
    "- render_svg\n",
    "- svg_to_png\n",
    "- svg2paths (already defined in svgpathtools)"
   ]
  },
  {
   "cell_type": "code",
   "execution_count": 13,
   "metadata": {
    "collapsed": true
   },
   "outputs": [],
   "source": [
    "### rendering stroke-by-stroke \n",
    "stroke_dir = os.path.join(sketch_dir, 'stroke_analysis')"
   ]
  },
  {
   "cell_type": "code",
   "execution_count": 103,
   "metadata": {
    "collapsed": true
   },
   "outputs": [],
   "source": [
    "reload(srh)\n",
    "## render out svg\n",
    "srh.render_svg(parsed,base_dir=stroke_dir)"
   ]
  },
  {
   "cell_type": "code",
   "execution_count": 7,
   "metadata": {
    "collapsed": true
   },
   "outputs": [],
   "source": [
    "## get svg path list\n",
    "svg_paths = srh.generate_svg_path_list(os.path.join(stroke_dir,'svg'))"
   ]
  },
  {
   "cell_type": "code",
   "execution_count": 8,
   "metadata": {
    "collapsed": true
   },
   "outputs": [
    {
     "name": "stdout",
     "output_type": "stream",
     "text": [
      "convert /Users/megumisano/graphical_conventions/sketches/stroke_analysis/svg/4479-3f10bccf-ef14-4c6a-a2f5-333f692f78d8_6_waiting_01_0_run4_generalization_0_end.svg /Users/megumisano/graphical_conventions/sketches/stroke_analysis/png/4479-3f10bccf-ef14-4c6a-a2f5-333f692f78d8_6_waiting_01_0_run4_generalization_0_end.png\n"
     ]
    }
   ],
   "source": [
    "## convert to png\n",
    "srh.svg_to_png(svg_paths,base_dir=stroke_dir)"
   ]
  },
  {
   "cell_type": "markdown",
   "metadata": {},
   "source": [
    "### svg rendering with stroke deletion in both directions"
   ]
  },
  {
   "cell_type": "code",
   "execution_count": 83,
   "metadata": {
    "collapsed": true
   },
   "outputs": [],
   "source": [
    "D = pd.read_csv(os.path.join(results_dir, 'graphical_conventions.csv'))"
   ]
  },
  {
   "cell_type": "code",
   "execution_count": 103,
   "metadata": {
    "collapsed": true
   },
   "outputs": [
    {
     "name": "stdout",
     "output_type": "stream",
     "text": [
      "rendering sketches from game 5408-c0bdf20b-7f65-49fb-aea3-0dd72e154ebd with 40 trials\n",
      "rendering sketches from game 7940-e30c3a20-dd99-4efc-ae92-f650a7f1d6e6 with 40 trials\n",
      "rendering sketches from game 9338-3d6dc953-6aca-48c1-b949-4e5491d3b967 with 40 trials\n"
     ]
    }
   ],
   "source": [
    "reload(srh)\n",
    "for g in D['gameID].unique()':\n",
    "    D_game = D[D['gameID'] == g]\n",
    "    print \"rendering sketches from game \" + g + \" with \" + str(len(D_game)) + \" trials\"\n",
    "    for t in range(1, 41):\n",
    "        D_trial = D_game[D_game['trialNum'] == t]\n",
    "        iterationName = 'run4_generalization' if list(D_trial['Generalization'])[0] == 'between' else 'run3_size4_waiting'\n",
    "        trial_level_path = g + '_' + str(t) + '_' + list(D_trial['target'])[0] + '_' + str(list(D_trial['repetition'])[0]) + '_' + iterationName\n",
    "        if int(trial_level_path.split('_')[1]) > 40:\n",
    "            print(trial_level_path)\n",
    "        svg_list = ast.literal_eval(D[(D['gameID'] == g) & (D['trialNum'] == t)]['svgString'].unique()[0])\n",
    "        assert len(svg_list) != 0\n",
    "        # deleting from the end \n",
    "        for num_strokes in range(len(svg_list)): # 0 to 7\n",
    "            stroke_and_direction = '_' + str(num_strokes) + '_start.svg'  # deleting how many strokes? \n",
    "            stroke_level_path = trial_level_path + stroke_and_direction\n",
    "            parsed = [parse_path(svg_list[i]) for i in range(num_strokes,len(svg_list))]\n",
    "            ## render out svg\n",
    "            srh.render_svg(parsed,base_dir=stroke_dir, out_fname=stroke_level_path)\n",
    "        # and deleting from the start \n",
    "        for num_strokes in range(len(svg_list)): # 0 to 7  \n",
    "            stroke_and_direction = '_' + str(num_strokes) + '_end.svg' # deleting how many strokes? \n",
    "            stroke_level_path = trial_level_path + stroke_and_direction\n",
    "            parsed = [parse_path(svg_list[i]) for i in range(0, len(svg_list) - num_strokes)]\n",
    "            ## render out svg\n",
    "            srh.render_svg(parsed,base_dir=stroke_dir, out_fname=stroke_level_path)"
   ]
  },
  {
   "cell_type": "code",
   "execution_count": 90,
   "metadata": {},
   "outputs": [],
   "source": [
    "## get svg path list\n",
    "svg_paths = srh.generate_svg_path_list(os.path.join(stroke_dir,'svg'))"
   ]
  },
  {
   "cell_type": "code",
   "execution_count": 101,
   "metadata": {
    "collapsed": true
   },
   "outputs": [
    {
     "name": "stdout",
     "output_type": "stream",
     "text": [
      "convert /Users/megumisano/graphical_conventions/sketches/stroke_analysis/svg/9817-6f2a66db-fc24-482d-aa20-1980ad6f524e_38_dining_02_7_run3_size4_waiting_5_start.svg /Users/megumisano/graphical_conventions/sketches/stroke_analysis/png2/9817-6f2a66db-fc24-482d-aa20-1980ad6f524e_38_dining_02_7_run3_size4_waiting_5_start.png\n"
     ]
    }
   ],
   "source": [
    "## convert to png\n",
    "reload(srh)\n",
    "srh.svg_to_png(diff_paths_,base_dir=stroke_dir)"
   ]
  }
 ],
 "metadata": {
  "kernelspec": {
   "display_name": "Python 2",
   "language": "python",
   "name": "python2"
  },
  "language_info": {
   "codemirror_mode": {
    "name": "ipython",
    "version": 2
   },
   "file_extension": ".py",
   "mimetype": "text/x-python",
   "name": "python",
   "nbconvert_exporter": "python",
   "pygments_lexer": "ipython2",
   "version": "2.7.15"
  }
 },
 "nbformat": 4,
 "nbformat_minor": 1
}
