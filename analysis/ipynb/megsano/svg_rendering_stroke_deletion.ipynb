{
 "cells": [
  {
   "cell_type": "code",
   "execution_count": 18,
   "metadata": {
    "collapsed": true
   },
   "outputs": [],
   "source": [
    "from __future__ import division\n",
    "import os, sys\n",
    "import urllib, cStringIO\n",
    "import pymongo as pm ## first establish ssh tunnel to server where database is running\n",
    "import base64\n",
    "import numpy as np\n",
    "from numpy import *\n",
    "import PIL\n",
    "from PIL import Image\n",
    "import base64\n",
    "import matplotlib\n",
    "from matplotlib import pylab, mlab, pyplot\n",
    "from IPython.core.pylabtools import figsize, getfigs\n",
    "plt = pyplot\n",
    "import seaborn as sns\n",
    "sns.set_context('poster')\n",
    "sns.set_style('white')\n",
    "from matplotlib.path import Path\n",
    "import matplotlib.patches as patches\n",
    "\n",
    "import pandas as pd\n",
    "from svgpathtools import parse_path, wsvg, svg2paths"
   ]
  },
  {
   "cell_type": "markdown",
   "metadata": {},
   "source": [
    "### setup"
   ]
  },
  {
   "cell_type": "code",
   "execution_count": 19,
   "metadata": {},
   "outputs": [
    {
     "data": {
      "text/plain": [
       "<module 'svg_rendering_helpers' from '/Users/megumisano/graphical_conventions/analysis/python/svg_rendering_helpers.pyc'>"
      ]
     },
     "execution_count": 19,
     "metadata": {},
     "output_type": "execute_result"
    }
   ],
   "source": [
    "# directory & file hierarchy\n",
    "proj_dir = os.path.abspath('../../..')\n",
    "analysis_dir = os.getcwd()\n",
    "results_dir = os.path.join(proj_dir,'results')\n",
    "plot_dir = os.path.join(results_dir,'plots')\n",
    "csv_dir = os.path.join(results_dir,'csv')\n",
    "exp_dir = os.path.abspath(os.path.join(proj_dir,'experiments'))\n",
    "sketch_dir = os.path.abspath(os.path.join(proj_dir,'sketches'))\n",
    "\n",
    "## add helpers to python path\n",
    "if os.path.join(proj_dir,'analysis','python') not in sys.path:\n",
    "    sys.path.insert(1,os.path.join(proj_dir,'analysis','python'))\n",
    "    \n",
    "if not os.path.exists(results_dir):\n",
    "    os.makedirs(results_dir)\n",
    "    \n",
    "if not os.path.exists(plot_dir):\n",
    "    os.makedirs(plot_dir)   \n",
    "    \n",
    "if not os.path.exists(csv_dir):\n",
    "    os.makedirs(csv_dir)       \n",
    "    \n",
    "# Assign variables within imported analysis helpers\n",
    "import analysis_helpers as h\n",
    "if sys.version_info[0]>=3:\n",
    "    from importlib import reload\n",
    "reload(h)\n",
    "\n",
    "import svg_rendering_helpers as srh\n",
    "reload(srh)"
   ]
  },
  {
   "cell_type": "code",
   "execution_count": 4,
   "metadata": {},
   "outputs": [],
   "source": [
    "# set vars \n",
    "auth = pd.read_csv('auth.txt', header = None) # this auth.txt file contains the password for the sketchloop user\n",
    "pswd = auth.values[0][0]\n",
    "user = 'sketchloop'\n",
    "host = 'rxdhawkins.me' ## cocolab ip address\n",
    "\n",
    "# have to fix this to be able to analyze from local\n",
    "import pymongo as pm\n",
    "conn = pm.MongoClient('mongodb://sketchloop:' + pswd + '@127.0.0.1')\n",
    "db = conn['3dObjects']\n",
    "coll = db['graphical_conventions']\n",
    "\n",
    "# which iteration name should we use?\n",
    "## \"good\" iterations that we currently combine: ['run3_size4_waiting', 'run4_generalization']\n",
    "iterationNames = ['run3_size4_waiting', 'run4_generalization']"
   ]
  },
  {
   "cell_type": "markdown",
   "metadata": {},
   "source": [
    "### svg rendering"
   ]
  },
  {
   "cell_type": "code",
   "execution_count": 6,
   "metadata": {},
   "outputs": [],
   "source": [
    "# list of all gameids across iterationNames\n",
    "gameids = coll.find({'iterationName': {'$in': iterationNames}}).distinct('gameid')"
   ]
  },
  {
   "cell_type": "code",
   "execution_count": 7,
   "metadata": {
    "collapsed": true
   },
   "outputs": [],
   "source": [
    "# sample game\n",
    "this_game = gameids[10]"
   ]
  },
  {
   "cell_type": "code",
   "execution_count": 42,
   "metadata": {
    "collapsed": true
   },
   "outputs": [],
   "source": [
    "# sample stroke recs from a trial\n",
    "this_trial = 1\n",
    "stroke_recs = coll.find({ '$and': [{'gameid': this_game}, \n",
    "                                   {'eventType': 'stroke'}, \n",
    "                                   {'trialNum':this_trial}]}).sort('time')"
   ]
  },
  {
   "cell_type": "code",
   "execution_count": 43,
   "metadata": {
    "collapsed": true
   },
   "outputs": [],
   "source": [
    "# get list of svgs\n",
    "svg_list = srh.make_svg_list(stroke_recs)"
   ]
  },
  {
   "cell_type": "code",
   "execution_count": 44,
   "metadata": {},
   "outputs": [],
   "source": [
    "# grab sample stroke\n",
    "this_stroke = svg_list[0]"
   ]
  },
  {
   "cell_type": "code",
   "execution_count": 45,
   "metadata": {},
   "outputs": [],
   "source": [
    "parsed1 = parse_path(svg_list[0])\n",
    "parsed2 = parse_path(svg_list[1])"
   ]
  },
  {
   "cell_type": "code",
   "execution_count": 102,
   "metadata": {
    "collapsed": true
   },
   "outputs": [],
   "source": [
    "## list of paths to render out in same svg\n",
    "parsed = [parse_path(svg_list[i]) for i in range(6, len(svg_list))]"
   ]
  },
  {
   "cell_type": "markdown",
   "metadata": {},
   "source": [
    "#### wsvg arguments\n",
    "```\n",
    "wsvg(paths=None, colors=None, filename=join, stroke_widths=None, nodes=None, node_colors=None, node_radii=None, openinbrowser=False, timestamp=False, margin_size=0.1, mindim=600, dimensions=None, viewbox=None, text=None, text_path=None, font_size=None, attributes=None, svg_attributes=None)\n",
    "```"
   ]
  },
  {
   "cell_type": "markdown",
   "metadata": {},
   "source": [
    "### what we need (tests on single sketches)"
   ]
  },
  {
   "cell_type": "markdown",
   "metadata": {},
   "source": [
    "- render_svg\n",
    "- svg_to_png\n",
    "- svg2paths (already defined in svgpathtools)"
   ]
  },
  {
   "cell_type": "code",
   "execution_count": 16,
   "metadata": {
    "collapsed": true
   },
   "outputs": [],
   "source": [
    "### rendering stroke-by-stroke \n",
    "stroke_dir = os.path.join(sketch_dir, 'stroke_analysis')"
   ]
  },
  {
   "cell_type": "code",
   "execution_count": 103,
   "metadata": {},
   "outputs": [],
   "source": [
    "reload(srh)\n",
    "## render out svg\n",
    "srh.render_svg(parsed,base_dir=stroke_dir)"
   ]
  },
  {
   "cell_type": "code",
   "execution_count": 23,
   "metadata": {
    "collapsed": true
   },
   "outputs": [],
   "source": [
    "## get svg path list\n",
    "svg_paths = srh.generate_svg_path_list(os.path.join(stroke_dir,'svg'))"
   ]
  },
  {
   "cell_type": "code",
   "execution_count": 26,
   "metadata": {
    "collapsed": true
   },
   "outputs": [
    {
     "name": "stdout",
     "output_type": "stream",
     "text": [
      "convert /Users/megumisano/graphical_conventions/sketches/stroke_analysis/svg/tmp.svg /Users/megumisano/graphical_conventions/sketches/stroke_analysis/png/tmp.png\n"
     ]
    }
   ],
   "source": [
    "## convert to png\n",
    "srh.svg_to_png(svg_paths,base_dir=stroke_dir)"
   ]
  },
  {
   "cell_type": "code",
   "execution_count": null,
   "metadata": {},
   "outputs": [],
   "source": []
  },
  {
   "cell_type": "markdown",
   "metadata": {},
   "source": [
    "### svg rendering with stroke deletion in both directions"
   ]
  },
  {
   "cell_type": "code",
   "execution_count": null,
   "metadata": {
    "collapsed": true
   },
   "outputs": [],
   "source": [
    "D = pd.read_csv(os.path.join(results_dir, 'graphical_conventions.csv'))"
   ]
  },
  {
   "cell_type": "code",
   "execution_count": 106,
   "metadata": {
    "collapsed": true
   },
   "outputs": [
    {
     "name": "stdout",
     "output_type": "stream",
     "text": [
      "rendering sketches from game 5408-c0bdf20b-7f65-49fb-aea3-0dd72e154ebd with 40 trials\n",
      "rendering sketches from game 5214-62825001-ac78-4b1f-b173-c837134e533b with 40 trials\n",
      "rendering sketches from game 0724-1a59371c-6fe6-4d6d-a987-db533e75a5e5 with 40 trials\n",
      "rendering sketches from game 2040-7604415a-2963-4416-a78c-e2fdc7e670ac with 40 trials\n",
      "rendering sketches from game 8384-deeaec6b-d2a1-4f6e-ae6c-6140dfbb4071 with 40 trials\n",
      "rendering sketches from game 6388-4e8fd744-2165-44fc-866a-5d68aff23732 with 40 trials\n",
      "rendering sketches from game 1979-cf0efe08-9b6f-49a7-8200-43f0e7744dbc with 40 trials\n",
      "rendering sketches from game 2349-8db5cdc6-e266-4486-a9c2-b99b80593419 with 40 trials\n",
      "rendering sketches from game 9614-d370a26e-7936-49e5-add7-05e6d31dda4a with 40 trials\n",
      "rendering sketches from game 6459-b31ded08-1443-4005-8cea-256cf02be3df with 40 trials\n",
      "rendering sketches from game 0286-a442ec93-ad78-42fa-b3e9-083da9a64c4d with 40 trials\n",
      "rendering sketches from game 4152-970406c3-17ba-435b-a56b-4f1f79f00119 with 40 trials\n",
      "rendering sketches from game 4529-638b7428-2c20-4fb2-a388-1c7513f675d1 with 40 trials\n",
      "rendering sketches from game 3522-5f73221e-1d4d-4e32-80ca-939e04b87bc3 with 40 trials\n",
      "rendering sketches from game 0836-215b3490-cdf2-4a13-b55a-ea90f7b1903b with 40 trials\n",
      "rendering sketches from game 8705-4970135a-e63c-4cd1-953f-d5850978a781 with 40 trials\n",
      "rendering sketches from game 0051-e13f6f0c-ae9b-4976-8fcd-870cdb75f63f with 40 trials\n",
      "rendering sketches from game 9790-3a0dd9df-cae0-4f97-95b4-93bf1d0bfd09 with 40 trials\n",
      "rendering sketches from game 9289-9e66fe1c-fc3d-4fc3-868f-ac6a2c7def6e with 40 trials\n",
      "rendering sketches from game 0786-9d8492b6-e57d-4cb6-a44e-a79bccb681f4 with 40 trials\n",
      "rendering sketches from game 5598-e6b25d85-7c51-49f0-9529-c4c42d15b233 with 40 trials\n",
      "rendering sketches from game 6378-75ca9ee2-ed38-4434-b0bc-00c039f29b57 with 40 trials\n",
      "rendering sketches from game 7940-e30c3a20-dd99-4efc-ae92-f650a7f1d6e6 with 40 trials\n",
      "rendering sketches from game 1696-c4c60e8e-a818-42cf-8cef-9b5466d277a3 with 40 trials\n",
      "rendering sketches from game 9662-69da656f-884a-416f-a492-59c9f6a13a34 with 40 trials\n",
      "rendering sketches from game 9329-3901b756-7cdb-4061-b8b3-41e6e2be20fd with 40 trials\n",
      "rendering sketches from game 2391-14c2ae6d-73d2-4e2a-b4e8-d9cdedbd393c with 40 trials\n",
      "rendering sketches from game 6540-741a0240-208a-46d6-8181-5858614f27c0 with 40 trials\n",
      "rendering sketches from game 0232-52e2508f-1993-48fa-8bb3-3d1bb74dfc40 with 40 trials\n",
      "rendering sketches from game 1291-3bda039e-7339-457f-8762-5b741cf9e305 with 40 trials\n",
      "rendering sketches from game 4479-3f10bccf-ef14-4c6a-a2f5-333f692f78d8 with 40 trials\n",
      "rendering sketches from game 4481-5fed0014-1615-4591-a71b-a636861ff34f with 40 trials\n",
      "rendering sketches from game 4344-f66f25b9-b27d-401c-bfee-521325f1ed15 with 40 trials\n",
      "rendering sketches from game 5892-835639bc-f58d-4232-b93b-1a54fc5f89a4 with 40 trials\n",
      "rendering sketches from game 2278-180099e6-6124-48cf-a3c4-3196be754954 with 40 trials\n",
      "rendering sketches from game 1096-f9380acb-8b85-4f77-8d5a-c20189a77eba with 40 trials\n",
      "rendering sketches from game 0955-60582965-41c6-492d-aa67-98e15630db39 with 40 trials\n",
      "rendering sketches from game 6333-9ef157b9-68ab-438e-bb27-f588abc2c906 with 40 trials\n",
      "rendering sketches from game 9769-9f38f477-8dbd-4976-96fa-d359b0d05222 with 40 trials\n",
      "rendering sketches from game 4197-1d23a6c0-9864-4a7f-a63d-558ef64cbf94 with 40 trials\n",
      "rendering sketches from game 4485-b6b989b0-c8f7-4a76-b133-3f2c4301e9f1 with 40 trials\n",
      "rendering sketches from game 4086-fdeecc93-f5a6-426f-a924-c53ebaf80069 with 40 trials\n",
      "rendering sketches from game 0050-769c4742-aefc-4bea-aeb2-7dc48b51fe82 with 40 trials\n",
      "rendering sketches from game 1456-d61538b0-dfa4-4429-bd74-42ce8c65ed4d with 40 trials\n",
      "rendering sketches from game 9338-3d6dc953-6aca-48c1-b949-4e5491d3b967 with 40 trials\n",
      "rendering sketches from game 0647-0ece0513-aa05-4676-bb63-3845126ce2c1 with 40 trials\n",
      "rendering sketches from game 1993-b2fda10b-f02f-4ef8-a2f3-e482ead74bb9 with 40 trials\n",
      "rendering sketches from game 6725-7351d615-c816-4608-8554-afecf47c4b42 with 40 trials\n"
     ]
    }
   ],
   "source": [
    "reload(srh)\n",
    "for g in D['gameID'].unique()[19:]:\n",
    "    print \"rendering sketches from game \" + g + \" with \" + str(len(D_game)) + \" trials\"\n",
    "    D_game = D[D['gameID'] == g]\n",
    "    for t in range(1, 41):\n",
    "        D_trial = D_game[D_game['trialNum'] == t]\n",
    "        iterationName = 'run4_generalization' if list(D_trial['Generalization'])[0] == 'between' else 'run3_size4_waiting'\n",
    "        trial_level_path = g + '_' + str(t) + '_' + list(D_trial['target'])[0] + '_' + str(list(D_trial['repetition'])[0]) + '_' + iterationName\n",
    "        stroke_recs = coll.find({ '$and': [{'gameid': g}, \n",
    "                                   {'eventType': 'stroke'}, \n",
    "                                   {'trialNum':t}]}).sort('time')\n",
    "        # get list of svgs\n",
    "        svg_list = srh.make_svg_list(stroke_recs)\n",
    "        # deleting from the end \n",
    "        for num_strokes in range(len(svg_list)): # 0 to 7\n",
    "            stroke_and_direction = '_' + str(num_strokes) + '_end.svg'  # deleting how many strokes? \n",
    "            stroke_level_path = trial_level_path + stroke_and_direction\n",
    "            parsed = [parse_path(svg_list[i]) for i in range(num_strokes,len(svg_list))]\n",
    "            ## render out svg\n",
    "            srh.render_svg(parsed,base_dir=stroke_dir, out_fname=stroke_level_path)\n",
    "        # and deleting from the start \n",
    "        for num_strokes in range(len(svg_list)): # 0 to 7  \n",
    "            stroke_and_direction = '_' + str(num_strokes) + '_start.svg' # deleting how many strokes? \n",
    "            stroke_level_path = trial_level_path + stroke_and_direction\n",
    "            parsed = [parse_path(svg_list[i]) for i in range(0, len(svg_list) - num_strokes)]\n",
    "            ## render out svg\n",
    "            srh.render_svg(parsed,base_dir=stroke_dir, out_fname=stroke_level_path)"
   ]
  },
  {
   "cell_type": "code",
   "execution_count": 107,
   "metadata": {},
   "outputs": [],
   "source": [
    "## get svg path list\n",
    "svg_paths = srh.generate_svg_path_list(os.path.join(stroke_dir,'svg'))"
   ]
  },
  {
   "cell_type": "code",
   "execution_count": null,
   "metadata": {},
   "outputs": [],
   "source": [
    "## convert to png\n",
    "reload(srh)\n",
    "srh.svg_to_png(svg_paths,base_dir=stroke_dir)"
   ]
  },
  {
   "cell_type": "code",
   "execution_count": null,
   "metadata": {},
   "outputs": [],
   "source": []
  },
  {
   "cell_type": "code",
   "execution_count": null,
   "metadata": {},
   "outputs": [],
   "source": []
  },
  {
   "cell_type": "code",
   "execution_count": null,
   "metadata": {
    "collapsed": true
   },
   "outputs": [],
   "source": []
  }
 ],
 "metadata": {
  "kernelspec": {
   "display_name": "Python 2",
   "language": "python",
   "name": "python2"
  },
  "language_info": {
   "codemirror_mode": {
    "name": "ipython",
    "version": 2
   },
   "file_extension": ".py",
   "mimetype": "text/x-python",
   "name": "python",
   "nbconvert_exporter": "python",
   "pygments_lexer": "ipython2",
   "version": "2.7.15"
  }
 },
 "nbformat": 4,
 "nbformat_minor": 1
}
