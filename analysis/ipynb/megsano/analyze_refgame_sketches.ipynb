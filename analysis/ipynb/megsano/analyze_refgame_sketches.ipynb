{
 "cells": [
  {
   "cell_type": "code",
   "execution_count": 315,
   "metadata": {},
   "outputs": [],
   "source": [
    "from __future__ import absolute_import, division, print_function\n",
    "\n",
    "import os\n",
    "import ast\n",
    "#import urllib, cStringIO\n",
    "\n",
    "import pymongo as pm\n",
    "\n",
    "import numpy as np\n",
    "import scipy.stats as stats\n",
    "import pandas as pd\n",
    "import json\n",
    "import re\n",
    "\n",
    "from PIL import Image\n",
    "import base64\n",
    "import sys\n",
    "\n",
    "import matplotlib\n",
    "from matplotlib import pylab, mlab, pyplot\n",
    "%matplotlib inline\n",
    "from IPython.core.pylabtools import figsize, getfigs\n",
    "plt = pyplot\n",
    "import seaborn as sns\n",
    "sns.set_context('talk')\n",
    "sns.set_style('white')\n",
    "\n",
    "import warnings\n",
    "warnings.filterwarnings(\"ignore\", category=DeprecationWarning)\n",
    "warnings.filterwarnings(\"ignore\", message=\"numpy.dtype size changed\")\n",
    "warnings.filterwarnings(\"ignore\", message=\"numpy.ufunc size changed\")"
   ]
  },
  {
   "cell_type": "code",
   "execution_count": 316,
   "metadata": {},
   "outputs": [
    {
     "data": {
      "text/plain": [
       "<module 'analysis_helpers' from '/Users/megumisano/graphical_conventions/analysis/python/analysis_helpers.pyc'>"
      ]
     },
     "execution_count": 316,
     "metadata": {},
     "output_type": "execute_result"
    }
   ],
   "source": [
    "# directory & file hierarchy\n",
    "proj_dir = os.path.abspath('../../..')\n",
    "analysis_dir = os.getcwd()\n",
    "results_dir = os.path.join(proj_dir,'results')\n",
    "plot_dir = os.path.join(results_dir,'plots')\n",
    "csv_dir = os.path.join(results_dir,'csv')\n",
    "exp_dir = os.path.abspath(os.path.join(proj_dir,'experiments'))\n",
    "sketch_dir = os.path.abspath(os.path.join(proj_dir,'sketches'))\n",
    "\n",
    "## add helpers to python path\n",
    "if os.path.join(proj_dir,'analysis','python') not in sys.path:\n",
    "    sys.path.append(os.path.join(proj_dir,'analysis','python'))\n",
    "    \n",
    "if not os.path.exists(results_dir):\n",
    "    os.makedirs(results_dir)\n",
    "    \n",
    "if not os.path.exists(plot_dir):\n",
    "    os.makedirs(plot_dir)   \n",
    "    \n",
    "if not os.path.exists(csv_dir):\n",
    "    os.makedirs(csv_dir)       \n",
    "    \n",
    "# Assign variables within imported analysis helpers\n",
    "import analysis_helpers as h\n",
    "if sys.version_info[0]>=3:\n",
    "    from importlib import reload\n",
    "reload(h)"
   ]
  },
  {
   "cell_type": "markdown",
   "metadata": {},
   "source": [
    "### load sketch features + metadata"
   ]
  },
  {
   "cell_type": "code",
   "execution_count": 317,
   "metadata": {},
   "outputs": [],
   "source": [
    "reload(h)\n",
    "cropping = 'no_crop'\n",
    "base_path = '../../../data/features/'\n",
    "path_to_feats = base_path + '{}/FEATURES_FC6_sketch.npy'.format(cropping)\n",
    "path_to_meta = base_path + '{}/METADATA_sketch.csv'.format(cropping)\n",
    "path_to_feats_stroke_analysis = base_path + 'FEATURES_FC6_sketch_stroke_analysis.npy'\n",
    "path_to_meta_stroke_analysis = base_path + 'METADATA_sketch_stroke_analysis.csv'\n",
    "\n",
    "F = np.load(path_to_feats)\n",
    "F_stroke_analysis = np.load(path_to_feats_stroke_analysis)\n",
    "cors = np.corrcoef(F)\n",
    "triu_inds = np.triu_indices(cors.shape[0], k = 1)\n",
    "assert np.round(np.mean(cors[triu_inds]),2) != 1, 'F has redundant rows'\n",
    "\n",
    "M = h.clean_up_metadata(pd.read_csv(path_to_meta))\n",
    "M_ = h.clean_up_metadata(pd.read_csv(path_to_meta_stroke_analysis))\n",
    "assert F.shape[0]==M.shape[0], 'F and M are different sizes'"
   ]
  },
  {
   "cell_type": "code",
   "execution_count": 95,
   "metadata": {},
   "outputs": [],
   "source": [
    "png_dir = os.path.join(sketch_dir, 'stroke_analysis/png')\n",
    "png_paths = os.listdir(png_dir)\n",
    "for path in png_paths:\n",
    "    trial_level_path = path.split('/')[-1]\n",
    "    if trial_level_path!= '.DS_Store':\n",
    "        if int(trial_level_path.split('_')[1]) > 40:\n",
    "            print(trial_level_path)"
   ]
  },
  {
   "cell_type": "code",
   "execution_count": null,
   "metadata": {},
   "outputs": [],
   "source": []
  },
  {
   "cell_type": "code",
   "execution_count": 318,
   "metadata": {},
   "outputs": [],
   "source": [
    "M_stroke_analysis = pd.DataFrame()\n",
    "gameID_list = []\n",
    "trialNum_list = []\n",
    "condition_list = []\n",
    "target_list = []\n",
    "repetition_list = []\n",
    "numStrokesDeleted_list = []\n",
    "directions_list = []\n",
    "feature_ind_list = []\n",
    "for i,d in M_.iterrows():\n",
    "    label = d['label'].split('_')\n",
    "    gameID_list.append(label[0])\n",
    "    trialNum_list.append(label[1])\n",
    "    condition_list.append(label[2])\n",
    "    target_list.append(label[3])\n",
    "    repetition_list.append(label[4])\n",
    "    numStrokesDeleted_list.append(label[5])\n",
    "    directions_list.append(label[6])\n",
    "    feature_ind_list.append(d['feature_ind'])\n",
    "M_stroke_analysis['gameID'] = gameID_list \n",
    "M_stroke_analysis['trial_num'] = trialNum_list \n",
    "M_stroke_analysis['condition'] = condition_list \n",
    "M_stroke_analysis['target'] = target_list \n",
    "M_stroke_analysis['repetition'] = repetition_list\n",
    "M_stroke_analysis['num_strokes_deleted'] = numStrokesDeleted_list\n",
    "M_stroke_analysis['direction'] = directions_list \n",
    "M_stroke_analysis['feature_ind'] = feature_ind_list"
   ]
  },
  {
   "cell_type": "markdown",
   "metadata": {},
   "source": [
    "## core analyses"
   ]
  },
  {
   "cell_type": "markdown",
   "metadata": {},
   "source": [
    "### 1. Between-sketch similarity analyses "
   ]
  },
  {
   "cell_type": "markdown",
   "metadata": {},
   "source": [
    "##### Within-pair convergence \n",
    "- RDM, with each cell representing dissimilarity between the sketches of two repetition numbers, averaged within target and within gameID \n",
    "- Plot similarity between sketches of `base_rep` and `base_rep + 1` against `base_rep`; shows how similarity of sketches between adjacent repetitions changes with increasing repetition"
   ]
  },
  {
   "cell_type": "code",
   "execution_count": 4,
   "metadata": {
    "collapsed": true
   },
   "outputs": [
    {
     "name": "stderr",
     "output_type": "stream",
     "text": [
      "/Users/megumisano/anaconda/envs/py27/lib/python2.7/site-packages/pandas/core/frame.py:6211: FutureWarning: Sorting because non-concatenation axis is not aligned. A future version\n",
      "of pandas will change to not sort by default.\n",
      "\n",
      "To accept the future behavior, pass 'sort=False'.\n",
      "\n",
      "To retain the current behavior and silence the warning, pass 'sort=True'.\n",
      "\n",
      "  sort=sort)\n"
     ]
    },
    {
     "data": {
      "image/png": "[encoded data removed]",
      "text/plain": [
       "<Figure size 360x288 with 2 Axes>"
      ]
     },
     "metadata": {},
     "output_type": "display_data"
    }
   ],
   "source": [
    "# create matrix for similarity between repetitions averaged within target and within game\n",
    "arr_of_corrmats = h.make_adjacency_matrix(M, F, 'gameID')"
   ]
  },
  {
   "cell_type": "code",
   "execution_count": 5,
   "metadata": {
    "collapsed": true
   },
   "outputs": [
    {
     "data": {
      "image/png": "[encoded data removed]",
      "text/plain": [
       "<Figure size 432x288 with 1 Axes>"
      ]
     },
     "metadata": {},
     "output_type": "display_data"
    }
   ],
   "source": [
    "# plot within-pair convergence\n",
    "h.plot_within_interaction_similarity(arr_of_corrmats)"
   ]
  },
  {
   "cell_type": "markdown",
   "metadata": {},
   "source": [
    "##### Within-pair baseline\n",
    "- For baseline, sketches are permuted across gameIDs \n",
    "- RDM, with each cell representing dissimilarity between the sketches of two repetition numbers, averaged within target and within gameID \n",
    "- Plot similarity between sketches of `base_rep` and `base_rep + 1` against `base_rep`; shows how similarity of sketches between adjacent repetitions changes with increasing repetition"
   ]
  },
  {
   "cell_type": "code",
   "execution_count": 6,
   "metadata": {
    "collapsed": true
   },
   "outputs": [
    {
     "name": "stderr",
     "output_type": "stream",
     "text": [
      "/Users/megumisano/graphical_conventions/analysis/python/analysis_helpers.py:837: SettingWithCopyWarning: \n",
      "A value is trying to be set on a copy of a slice from a DataFrame.\n",
      "Try using .loc[row_indexer,col_indexer] = value instead\n",
      "\n",
      "See the caveats in the documentation: http://pandas.pydata.org/pandas-docs/stable/indexing.html#indexing-view-versus-copy\n",
      "  M_targ_rep['pseudo_gameID'] = list(gameIDs)\n"
     ]
    },
    {
     "data": {
      "image/png": "[encoded data removed]",
      "text/plain": [
       "<Figure size 360x288 with 2 Axes>"
      ]
     },
     "metadata": {},
     "output_type": "display_data"
    }
   ],
   "source": [
    "reload(h)\n",
    "# permute across gameIDs\n",
    "M_permuted_gameID = h.scramble_df_across_gameID_within_target_and_rep(M)\n",
    "# create matrix for similarity between adjacent repetitions averaged within target and within game (PERMUTED)\n",
    "arr_of_corrmats_permuted = h.make_adjacency_matrix(M_permuted_gameID, F, 'pseudo_gameID')"
   ]
  },
  {
   "cell_type": "code",
   "execution_count": 7,
   "metadata": {
    "collapsed": true
   },
   "outputs": [
    {
     "data": {
      "image/png": "[encoded data removed]",
      "text/plain": [
       "<Figure size 432x288 with 1 Axes>"
      ]
     },
     "metadata": {},
     "output_type": "display_data"
    }
   ],
   "source": [
    "# plot within-pair convergence (PERMUTED)\n",
    "h.plot_within_interaction_similarity(arr_of_corrmats_permuted)"
   ]
  },
  {
   "cell_type": "markdown",
   "metadata": {},
   "source": [
    "##### Between-pair convergence\n",
    "- Plot similarity between sketches of different gameIDs within target and within repetition "
   ]
  },
  {
   "cell_type": "code",
   "execution_count": 8,
   "metadata": {
    "collapsed": true
   },
   "outputs": [
    {
     "data": {
      "image/png": "[encoded data removed]",
      "text/plain": [
       "<Figure size 576x360 with 1 Axes>"
      ]
     },
     "metadata": {},
     "output_type": "display_data"
    }
   ],
   "source": [
    "# plot between-pair divergence \n",
    "reload(h)\n",
    "h.plot_between_interaction_similarity(M, F, 'repetition')"
   ]
  },
  {
   "cell_type": "markdown",
   "metadata": {},
   "source": [
    "##### Between-pair baseline\n",
    "- For baseline, sketches are permuted across repetition, but within-target and within-pair structure are preserved "
   ]
  },
  {
   "cell_type": "code",
   "execution_count": 9,
   "metadata": {
    "collapsed": true
   },
   "outputs": [
    {
     "data": {
      "image/png": "[encoded data removed]",
      "text/plain": [
       "<Figure size 576x360 with 1 Axes>"
      ]
     },
     "metadata": {},
     "output_type": "display_data"
    }
   ],
   "source": [
    "reload(h)\n",
    "# permute across repetition \n",
    "M_permuted_rep = h.scramble_df_across_repetition_within_target_and_gameID(M)\n",
    "# plot between-pair divergence (PERMUTED))\n",
    "h.plot_between_interaction_similarity(M_permuted_rep, F, 'pseudo_repetition')"
   ]
  },
  {
   "cell_type": "code",
   "execution_count": null,
   "metadata": {},
   "outputs": [],
   "source": []
  },
  {
   "cell_type": "markdown",
   "metadata": {},
   "source": [
    "### 2. Within- sketch analyses "
   ]
  },
  {
   "cell_type": "markdown",
   "metadata": {},
   "source": [
    "##### First vs final stroke priority (Temporal stroke structure)\n",
    "- For any pair of successive sketches, we compute baseline similarity, and see how similarity changes as we delete strokes from either the later or the earlier sketch, either in the forward or reverse direction \n",
    "- Plot similarity timecourse across stroke deletions (similarity is normalized so that baseline similarity is 1.0 and number of strokes deleted is normalized to be percentage of strokes deleted)\n",
    "- Superimpose first-deleted and final-deleted to see whether it hurrts similarity more to remove from start or to remoove from end "
   ]
  },
  {
   "cell_type": "code",
   "execution_count": null,
   "metadata": {},
   "outputs": [],
   "source": [
    "D = pd.read_csv(os.path.join(results_dir, 'graphical_conventions.csv'))"
   ]
  },
  {
   "cell_type": "code",
   "execution_count": null,
   "metadata": {
    "collapsed": true
   },
   "outputs": [],
   "source": [
    "## plotting for each repetition pair e.g. rep0 and rep1, rep1 and rep2, etc. "
   ]
  },
  {
   "cell_type": "code",
   "execution_count": null,
   "metadata": {},
   "outputs": [],
   "source": [
    "# lesion later sketch \n",
    "sns.set_context(\"paper\")\n",
    "fig, axs = plt.subplots(nrows=2, ncols=4, figsize=(5,35))\n",
    "lesion_later_sketch = False\n",
    "for base_rep in range(7):\n",
    "    for from_start in [True, False]:\n",
    "        h.plot_stroke_similarity_rep_specific(D, M_stroke_analysis, F_stroke_analysis, base_rep, from_start, lesion_later_sketch, ax=axs[base_rep])"
   ]
  },
  {
   "cell_type": "code",
   "execution_count": null,
   "metadata": {},
   "outputs": [],
   "source": [
    "# lesion earlier sketch \n",
    "sns.set_context(\"paper\")\n",
    "fig, axs = plt.subplots(nrows=7, figsize=(5,35))\n",
    "lesion_later_sketch = True \n",
    "for base_rep in range(7):\n",
    "    for from_start in [True, False]:\n",
    "        h.plot_stroke_similarity_rep_specific(D, M_stroke_analysis, F_stroke_analysis, base_rep, from_start, lesion_later_sketch, ax=axs[base_rep])"
   ]
  },
  {
   "cell_type": "code",
   "execution_count": 440,
   "metadata": {},
   "outputs": [],
   "source": [
    "### aggregating across repetition pairs "
   ]
  },
  {
   "cell_type": "code",
   "execution_count": 441,
   "metadata": {
    "collapsed": true
   },
   "outputs": [
    {
     "data": {
      "image/png": "[encoded data removed]",
      "text/plain": [
       "<Figure size 432x432 with 1 Axes>"
      ]
     },
     "metadata": {},
     "output_type": "display_data"
    }
   ],
   "source": [
    "# lesion earlier sketch \n",
    "sns.set_context(\"paper\")\n",
    "fig, ax = plt.subplots(figsize=(6, 6))\n",
    "lesion_later_sketch = False\n",
    "for from_start in [True, False]:\n",
    "    h.plot_stroke_similarity_rep_aggregate(D, M_stroke_analysis, F_stroke_analysis, from_start, lesion_later_sketch, ax)"
   ]
  },
  {
   "cell_type": "code",
   "execution_count": 442,
   "metadata": {
    "collapsed": true
   },
   "outputs": [
    {
     "data": {
      "image/png": "[encoded data removed]",
      "text/plain": [
       "<Figure size 432x432 with 1 Axes>"
      ]
     },
     "metadata": {},
     "output_type": "display_data"
    }
   ],
   "source": [
    "# lesion later sketch \n",
    "fig, ax = plt.subplots(figsize=(6, 6))\n",
    "lesion_later_sketch = True\n",
    "for from_start in [True, False]:\n",
    "    h.plot_stroke_similarity_rep_aggregate(D, M_stroke_analysis, F_stroke_analysis, from_start, lesion_later_sketch, ax)"
   ]
  },
  {
   "cell_type": "markdown",
   "metadata": {},
   "source": [
    "##### Fine-grained properties of individual sketches "
   ]
  },
  {
   "cell_type": "code",
   "execution_count": 21,
   "metadata": {
    "collapsed": true
   },
   "outputs": [],
   "source": [
    "### sensitivity analysis (i.e. heat map tracing)"
   ]
  },
  {
   "cell_type": "code",
   "execution_count": 22,
   "metadata": {
    "collapsed": true
   },
   "outputs": [],
   "source": [
    "### similarity of part-level features across reps "
   ]
  },
  {
   "cell_type": "code",
   "execution_count": null,
   "metadata": {
    "collapsed": true
   },
   "outputs": [],
   "source": []
  },
  {
   "cell_type": "code",
   "execution_count": null,
   "metadata": {
    "collapsed": true
   },
   "outputs": [],
   "source": []
  },
  {
   "cell_type": "code",
   "execution_count": null,
   "metadata": {
    "collapsed": true
   },
   "outputs": [],
   "source": []
  },
  {
   "cell_type": "code",
   "execution_count": null,
   "metadata": {
    "collapsed": true
   },
   "outputs": [],
   "source": []
  },
  {
   "cell_type": "code",
   "execution_count": null,
   "metadata": {
    "collapsed": true
   },
   "outputs": [],
   "source": []
  },
  {
   "cell_type": "code",
   "execution_count": null,
   "metadata": {
    "collapsed": true
   },
   "outputs": [],
   "source": []
  },
  {
   "cell_type": "code",
   "execution_count": null,
   "metadata": {
    "collapsed": true
   },
   "outputs": [],
   "source": []
  },
  {
   "cell_type": "code",
   "execution_count": null,
   "metadata": {
    "collapsed": true
   },
   "outputs": [],
   "source": []
  },
  {
   "cell_type": "code",
   "execution_count": null,
   "metadata": {
    "collapsed": true
   },
   "outputs": [],
   "source": []
  },
  {
   "cell_type": "code",
   "execution_count": null,
   "metadata": {
    "collapsed": true
   },
   "outputs": [],
   "source": []
  },
  {
   "cell_type": "code",
   "execution_count": null,
   "metadata": {
    "collapsed": true
   },
   "outputs": [],
   "source": []
  },
  {
   "cell_type": "code",
   "execution_count": null,
   "metadata": {
    "collapsed": true
   },
   "outputs": [],
   "source": []
  },
  {
   "cell_type": "markdown",
   "metadata": {},
   "source": [
    "## supplementary analyses"
   ]
  },
  {
   "cell_type": "code",
   "execution_count": 68,
   "metadata": {
    "collapsed": true
   },
   "outputs": [
    {
     "name": "stdout",
     "output_type": "stream",
     "text": [
      "saving sketches from game: 7053-d1f771d6-a55b-4681-961f-5a9ebb43cbdb\n",
      "saving sketches from game: 3558-8fa206a2-9b8c-4d67-a4ab-0832dc0d0f25\n",
      "saving sketches from game: 6964-d6de9966-f3dd-45df-8d24-d5bfd5d46eb8\n",
      "saving sketches from game: 4853-a05bfdd7-095c-4b93-bdde-2b99fd29c7a2\n",
      "saving sketches from game: 5616-7114c020-0e81-482c-952b-b26fc66076a0\n",
      "saving sketches from game: 9817-6f2a66db-fc24-482d-aa20-1980ad6f524e\n",
      "saving sketches from game: 7527-5ab8c64c-3f95-4864-bb6a-f9cad4b0d34e\n",
      "saving sketches from game: 1820-86afdf51-4b4c-43a9-a9e1-e6e20618de1b\n",
      "saving sketches from game: 7438-c77fa69e-d41c-41a4-b530-fc2809c07323\n",
      "saving sketches from game: 9075-d6c9b0a6-bfb2-4148-ae19-d0da518aef97\n",
      "saving sketches from game: 7637-26870e81-faae-4521-a2e9-10424526a22c\n",
      "saving sketches from game: 4395-6cdb78e3-0c3f-4526-9670-8e4c1dcbc542\n",
      "saving sketches from game: 3480-03933bf3-5e7e-4ecd-b151-7ae57e6ae826\n",
      "saving sketches from game: 7360-1ccf92da-d46d-4315-8c81-6620388ee62f\n",
      "saving sketches from game: 8103-96ba70c4-9236-4e40-bc20-24712d13bf3d\n",
      "saving sketches from game: 4432-efb565d2-4b2c-4d55-af90-3a8c7d06477d\n",
      "saving sketches from game: 3546-9d7a95c2-b4c6-426d-935b-6da59496af1d\n",
      "saving sketches from game: 4516-5b316bf5-da1c-42cb-a9c1-0814d2b18f27\n",
      "saving sketches from game: 1781-59e66c90-3a35-4e43-aea6-6f8860c3a543\n",
      "saving sketches from game: 7421-9f538991-c10f-44fc-9dd1-e9b377065ad8\n",
      "saving sketches from game: 5408-c0bdf20b-7f65-49fb-aea3-0dd72e154ebd\n",
      "saving sketches from game: 5214-62825001-ac78-4b1f-b173-c837134e533b\n",
      "saving sketches from game: 0724-1a59371c-6fe6-4d6d-a987-db533e75a5e5\n",
      "saving sketches from game: 2040-7604415a-2963-4416-a78c-e2fdc7e670ac\n",
      "saving sketches from game: 8384-deeaec6b-d2a1-4f6e-ae6c-6140dfbb4071\n",
      "saving sketches from game: 6388-4e8fd744-2165-44fc-866a-5d68aff23732\n",
      "saving sketches from game: 1979-cf0efe08-9b6f-49a7-8200-43f0e7744dbc\n",
      "saving sketches from game: 2349-8db5cdc6-e266-4486-a9c2-b99b80593419\n",
      "saving sketches from game: 9614-d370a26e-7936-49e5-add7-05e6d31dda4a\n",
      "saving sketches from game: 6459-b31ded08-1443-4005-8cea-256cf02be3df\n",
      "saving sketches from game: 0286-a442ec93-ad78-42fa-b3e9-083da9a64c4d\n",
      "saving sketches from game: 4152-970406c3-17ba-435b-a56b-4f1f79f00119\n",
      "saving sketches from game: 4529-638b7428-2c20-4fb2-a388-1c7513f675d1\n",
      "saving sketches from game: 3522-5f73221e-1d4d-4e32-80ca-939e04b87bc3\n"
     ]
    }
   ],
   "source": [
    "# plotting 8 RDMs, one for each repetition \n",
    "fig, axs = plt.subplots(2, 4, sharex=True, sharey=True, figsize=(40,20))\n",
    "for rep in range(8): \n",
    "    x_ind = rep % 4\n",
    "    y_ind = 0 if rep < 4 else 1 \n",
    "    M_rep = M[M['repetition'] == str(int(rep))]\n",
    "    M_rep_sorted = M_rep.sort_values(by=['target'])\n",
    "    sorted_feature_ind = list(M_rep_sorted['feature_ind'])\n",
    "    get_and_plot_RDM(M_rep, F, sorted_feature_ind, axs, x_ind, y_ind, rep)"
   ]
  },
  {
   "cell_type": "markdown",
   "metadata": {
    "collapsed": true
   },
   "source": [
    "##### path-dependence"
   ]
  },
  {
   "cell_type": "code",
   "execution_count": null,
   "metadata": {
    "collapsed": true
   },
   "outputs": [],
   "source": [
    "def get_corr_coefs(M,F):\n",
    "    auto_corr_df = pd.DataFrame()\n",
    "    for g in list(M['gameID'].unique()):\n",
    "        for t in list(M[M['gameID'] == g]['target'].unique()):\n",
    "            mini_df = M[(M['gameID'] == g) & (M['target'] == t)] \n",
    "            #mini_df = M[(M['gameID'] == '0050-769c4742-aefc-4bea-aeb2-7dc48b51fe82') & (M['target'] == 'dining_05')] \n",
    "            for base_rep in mini_df['repetition'].unique():\n",
    "                base_ind = list(mini_df[mini_df['repetition'] == base_rep]['feature_ind'])[0]\n",
    "                for other_rep in mini_df['repetition'].unique():\n",
    "                    if base_rep < other_rep:# check if other_rep is bigger - only compare forward \n",
    "                        rep_dist = other_rep - base_rep\n",
    "                        other_ind = list(mini_df[mini_df['repetition'] == other_rep]['feature_ind'])[0]\n",
    "                        features_to_compare = F[[base_ind, other_ind], :]\n",
    "                        corr_coef = np.corrcoef(features_to_compare)[1][0]\n",
    "                        df_to_add = pd.DataFrame([[g, t, base_rep,  rep_dist, corr_coef]], columns=['gameID', 'target', 'base_rep', 'rep_dist', 'corr_coef'])\n",
    "                        auto_corr_df = auto_corr_df.append(df_to_add)\n",
    "    return auto_corr_df\n",
    "\n",
    "auto_corr_df = get_corr_coefs(M, F)"
   ]
  },
  {
   "cell_type": "code",
   "execution_count": null,
   "metadata": {
    "collapsed": true
   },
   "outputs": [],
   "source": [
    "# how does the similarity between sketches of adjacent repetitions change with increasing base repetition number? \n",
    "sns.regplot(\n",
    "    data=auto_corr_df,\n",
    "    x_estimator=np.mean,\n",
    "    x='base_rep',\n",
    "    y='corr_coef',\n",
    "    logx=True)"
   ]
  },
  {
   "cell_type": "code",
   "execution_count": null,
   "metadata": {
    "collapsed": true
   },
   "outputs": [],
   "source": [
    "# how does the similarity between sketches of adjacent repetitions change with increasing repetition distance? \n",
    "sns.regplot(\n",
    "    data=auto_corr_df,\n",
    "    x_estimator=np.mean,\n",
    "    x='rep_dist',\n",
    "    y='corr_coef')"
   ]
  },
  {
   "cell_type": "code",
   "execution_count": null,
   "metadata": {
    "collapsed": true
   },
   "outputs": [],
   "source": [
    "new_df_ = pd.DataFrame()\n",
    "for rep in auto_corr_df['base_rep'].unique():\n",
    "    df_ = auto_corr_df[auto_corr_df['base_rep'] == rep]\n",
    "    for dist in df_['rep_dist'].unique():\n",
    "        _df = df_[df_['rep_dist'] == dist]\n",
    "        mean = np.mean(np.array(_df['corr_coef']))\n",
    "        df_to_add = pd.DataFrame([[rep, dist, mean]], columns=['base_rep', 'rep_dist', 'mean_corr_coef'])\n",
    "        new_df_ = new_df_.append(df_to_add)"
   ]
  },
  {
   "cell_type": "code",
   "execution_count": null,
   "metadata": {
    "collapsed": true
   },
   "outputs": [],
   "source": [
    "g = sns.FacetGrid(data=new_df_, col=\"rep_dist\", height=3, aspect=1, col_wrap=4, margin_titles=True)\n",
    "g = g.map(plt.scatter, \"base_rep\", \"mean_corr_coef\")\n",
    "# g = sns.catplot(x=\"base_rep\", y=\"mean_corr_coef\",\n",
    "#                 col=\"rep_dist\", data=new_df_,col_wrap=2)"
   ]
  },
  {
   "cell_type": "markdown",
   "metadata": {},
   "source": [
    "##### classifier approach"
   ]
  },
  {
   "cell_type": "code",
   "execution_count": null,
   "metadata": {
    "collapsed": true
   },
   "outputs": [],
   "source": [
    "#sklearn\n",
    "from sklearn import decomposition, ensemble\n",
    "from sklearn.model_selection import train_test_split\n",
    "from sklearn.metrics  import accuracy_score\n",
    "from sklearn.svm import LinearSVC\n",
    "from sklearn.datasets import make_classification\n",
    "from sklearn.linear_model import LogisticRegression\n",
    "from sklearn.calibration import CalibratedClassifierCV"
   ]
  },
  {
   "cell_type": "code",
   "execution_count": null,
   "metadata": {
    "collapsed": true
   },
   "outputs": [],
   "source": [
    "# make dataframe with just the first repetition \n",
    "M_0 = M[M['repetition'] == 0]\n",
    "y = list(M_0['target'])\n",
    "feature_inds = list(M_0['feature_ind'])\n",
    "features = F[feature_inds, :]\n",
    "x = pd.DataFrame(features)\n",
    "\n",
    "X_train_0, X_test_0, y_train_0, y_test_0 = train_test_split(x, y, test_size = 0.2)\n",
    "\n",
    "# make dataframe with just the last repetition \n",
    "M_7 = M[M['repetition'] == 7]\n",
    "y = list(M_7['target'])\n",
    "feature_inds = list(M_7['feature_ind'])\n",
    "features = F[feature_inds, :]\n",
    "x = pd.DataFrame(features)\n",
    "\n",
    "X_train_7, X_test_7, y_train_7, y_test_7 = train_test_split(x, y, test_size = 0.2)"
   ]
  },
  {
   "cell_type": "code",
   "execution_count": null,
   "metadata": {
    "collapsed": true
   },
   "outputs": [],
   "source": [
    "# makes training and testing sets for sketches from specific repetition \n",
    "def make_sets(M, rep):\n",
    "    # make dataframe with just the last repetition \n",
    "    M_= M[M['repetition'] == rep]\n",
    "    y = list(M_['target'])\n",
    "    feature_inds = list(M_['feature_ind'])\n",
    "    features = F[feature_inds, :]\n",
    "    x = pd.DataFrame(features)\n",
    "    return train_test_split(x, y, test_size = 0.2)"
   ]
  },
  {
   "cell_type": "code",
   "execution_count": null,
   "metadata": {
    "collapsed": true
   },
   "outputs": [],
   "source": [
    "# make either training set or testing set (all sketches used for either one of them)\n",
    "def get_x_and_y(M, rep):\n",
    "    M_= M[M['repetition'] == rep]\n",
    "    y = list(M_['target'])\n",
    "    feature_inds = list(M_['feature_ind'])\n",
    "    features = F[feature_inds, :]\n",
    "    x = pd.DataFrame(features)\n",
    "    return x, y"
   ]
  },
  {
   "cell_type": "code",
   "execution_count": null,
   "metadata": {
    "collapsed": true
   },
   "outputs": [],
   "source": [
    "def classify_sketches(train_rep, test_rep):\n",
    "    summary_df = pd.DataFrame()\n",
    "    for i in range(1):\n",
    "    \n",
    "        # first train on the train_rep sketches\n",
    "        X_train_, y_train_= get_x_and_y(M, train_rep)\n",
    "        logreg = LogisticRegression(multi_class='multinomial', solver='newton-cg')\n",
    "        #clf = CalibratedClassifierCV(log) \n",
    "        logreg.fit(X_train_, y_train_)\n",
    "#         svc = LinearSVC(random_state=0)\n",
    "#         clf = CalibratedClassifierCV(svc) \n",
    "#         clf.fit(X_train_, y_train_)\n",
    "\n",
    "        # for each repetition, predict from features, record accuracy and class probability    \n",
    "        for rep in test_rep:\n",
    "            X_test, y_test = get_x_and_y(M, rep)\n",
    "            y_pred = logreg.predict(X_test)\n",
    "            acc = accuracy_score(y_test, y_pred)\n",
    "            prob = logreg.predict_proba(X_test)\n",
    "            prob_df_svc = pd.DataFrame(prob)\n",
    "            prob_df_svc.columns=list(logreg.classes_)\n",
    "            prob_df_svc['target'] = y_test\n",
    "            prob_list = []\n",
    "            prob_df_svc = prob_df_svc.reset_index(drop=True)\n",
    "            for j, d in prob_df_svc.iterrows():\n",
    "                target = d['target']\n",
    "                class_prob = d[target]\n",
    "                prob_list.append(class_prob)\n",
    "            mean_prob = np.mean(prob_list)\n",
    "\n",
    "            df_to_add = pd.DataFrame([[i, rep, acc, mean_prob]], columns=['iteration','test_rep', 'accuracy', 'class_prob'])\n",
    "            summary_df = summary_df.append(df_to_add)\n",
    "\n",
    "    return summary_df"
   ]
  },
  {
   "cell_type": "code",
   "execution_count": null,
   "metadata": {
    "collapsed": true
   },
   "outputs": [],
   "source": [
    "summary_df0 = classify_sketches(0, [1,7])\n",
    "summary_df7 = classify_sketches(7, [6,0])\n",
    "summary_df0['train_rep'] = [0] * summary_df0.shape[0]\n",
    "summary_df7['train_rep'] = [7] * summary_df7.shape[0]\n",
    "summary_df_list = [summary_df0, summary_df7]\n",
    "combined_df = pd.concat(summary_df_list, axis=0)\n",
    "combined_df = combined_df.reset_index(drop=True)\n",
    "distance_list = []\n",
    "for i,d in combined_df.iterrows():\n",
    "    distance_list.append(abs(d['test_rep']-d['train_rep']))\n",
    "combined_df['distance'] = distance_list\n",
    "combined_df = combined_df.reset_index(drop=True)"
   ]
  },
  {
   "cell_type": "code",
   "execution_count": null,
   "metadata": {
    "collapsed": true
   },
   "outputs": [],
   "source": [
    "sns.set_context(\"paper\")\n",
    "plt.figure(figsize=(5,5))\n",
    "sns.pointplot(\n",
    "    data=combined_df,\n",
    "    x='distance',\n",
    "    y='accuracy',\n",
    "    hue='train_rep',\n",
    "    palette=\"Set1\")"
   ]
  },
  {
   "cell_type": "code",
   "execution_count": null,
   "metadata": {
    "collapsed": true
   },
   "outputs": [],
   "source": []
  },
  {
   "cell_type": "code",
   "execution_count": null,
   "metadata": {
    "collapsed": true
   },
   "outputs": [],
   "source": [
    "def get_x_and_y_permute(M, rep):\n",
    "    M_= M[M['pseudo_repetition'] == rep]\n",
    "    y = list(M_['target'])\n",
    "    feature_inds = list(M_['feature_ind'])\n",
    "    features = F[feature_inds, :]\n",
    "    x = pd.DataFrame(features)\n",
    "    return x, y"
   ]
  },
  {
   "cell_type": "code",
   "execution_count": null,
   "metadata": {
    "collapsed": true
   },
   "outputs": [],
   "source": [
    "def classify_sketches_permute(train_rep, test_rep):\n",
    "    summary_df = pd.DataFrame()\n",
    "    \n",
    "    # first train on the train_rep sketches\n",
    "    X_train_, y_train_= get_x_and_y_permute(M, train_rep)\n",
    "    logreg = LogisticRegression(multi_class='multinomial', solver='newton-cg')\n",
    "    #clf = CalibratedClassifierCV(log) \n",
    "    logreg.fit(X_train_, y_train_)\n",
    "#         svc = LinearSVC(random_state=0)\n",
    "#         clf = CalibratedClassifierCV(svc) \n",
    "#         clf.fit(X_train_, y_train_)\n",
    "\n",
    "    # for each repetition, predict from features, record accuracy and class probability    \n",
    "    for rep in test_rep:\n",
    "        X_test, y_test = get_x_and_y_permute(M, rep)\n",
    "        y_pred = logreg.predict(X_test)\n",
    "        acc = accuracy_score(y_test, y_pred) # temporarily just do accuracy \n",
    "#         prob = logreg.predict_proba(X_test)\n",
    "#         prob_df_svc = pd.DataFrame(prob)\n",
    "#         prob_df_svc.columns=list(logreg.classes_)\n",
    "#         prob_df_svc['target'] = y_test\n",
    "#         prob_list = []\n",
    "#         prob_df_svc = prob_df_svc.reset_index(drop=True)\n",
    "#         for j, d in prob_df_svc.iterrows():\n",
    "#             target = d['target']\n",
    "#             class_prob = d[target]\n",
    "#             prob_list.append(class_prob)\n",
    "        mean_prob = 1#np.mean(prob_list)\n",
    "\n",
    "        df_to_add = pd.DataFrame([[i, rep, acc, mean_prob]], columns=['iteration','test_rep', 'accuracy', 'class_prob'])\n",
    "        summary_df = summary_df.append(df_to_add)\n",
    "\n",
    "    return summary_df"
   ]
  },
  {
   "cell_type": "code",
   "execution_count": null,
   "metadata": {
    "collapsed": true
   },
   "outputs": [],
   "source": [
    "final_combined_df_permute = pd.DataFrame()\n",
    "random_seed = 4000000000\n",
    "for i in range(1000):\n",
    "    if i % 100 == 0:\n",
    "        print (str(i) + \"th iteration\")\n",
    "    pseudo_rep_list = []\n",
    "    for g in list(M['gameID'].unique()):\n",
    "        for t in list(M[M['gameID'] == g]['target'].unique()):\n",
    "            mini_df = M[(M['gameID'] == g) & (M['target'] == t)] \n",
    "            rep_list = np.array(mini_df['repetition'])\n",
    "            # pass in different random seed for each one \n",
    "            np.random.seed(random_seed)\n",
    "            shuffled_rep_list = np.random.permutation(rep_list)\n",
    "            pseudo_rep_list = pseudo_rep_list + list(shuffled_rep_list)\n",
    "            random_seed = random_seed - 1\n",
    "    M['pseudo_repetition'] = pseudo_rep_list\n",
    "    summary_df0 = classify_sketches_permute(0, [1,7])\n",
    "    summary_df7 = classify_sketches_permute(7, [6,0])\n",
    "    summary_df0['train_rep'] = [0] * summary_df0.shape[0]\n",
    "    summary_df7['train_rep'] = [7] * summary_df7.shape[0]\n",
    "    summary_df_list = [summary_df0, summary_df7]\n",
    "    combined_df_permute = pd.concat(summary_df_list, axis=0)\n",
    "    combined_df_permute = combined_df_permute.reset_index(drop=True)\n",
    "    distance_list = []\n",
    "    for j,d in combined_df_permute.iterrows():\n",
    "        distance_list.append(abs(d['test_rep']-d['train_rep']))\n",
    "    combined_df_permute['distance'] = distance_list\n",
    "    combined_df_permute = combined_df_permute.reset_index(drop=True)\n",
    "    final_combined_df_permute = final_combined_df_permute.append(combined_df_permute)#add(combined_df_permute, fill_value=0)\n",
    "result = final_combined_df_permute / 1000"
   ]
  },
  {
   "cell_type": "code",
   "execution_count": null,
   "metadata": {
    "collapsed": true
   },
   "outputs": [],
   "source": [
    "sns.set_context(\"paper\")\n",
    "plt.figure(figsize=(5,5))\n",
    "g = sns.pointplot(\n",
    "    data=final_combined_df_permute,\n",
    "    x='distance',\n",
    "    y='accuracy',\n",
    "    hue='train_rep',\n",
    "    palette=\"Set1\")\n",
    "g.set(ylim=(0.5, 0.6))"
   ]
  },
  {
   "cell_type": "code",
   "execution_count": null,
   "metadata": {
    "collapsed": true
   },
   "outputs": [],
   "source": [
    "sns.set_context(\"paper\")\n",
    "plt.figure(figsize=(5,5))\n",
    "sns.pointplot(\n",
    "    data=final_combined_df_permute,\n",
    "    x='distance',\n",
    "    y='accuracy',\n",
    "    hue='train_rep',\n",
    "    palette=\"Set1\")"
   ]
  },
  {
   "cell_type": "markdown",
   "metadata": {},
   "source": [
    "##### bootstrap"
   ]
  },
  {
   "cell_type": "code",
   "execution_count": null,
   "metadata": {
    "collapsed": true
   },
   "outputs": [],
   "source": [
    "# make either training set or testing set (all sketches used for either one of them)\n",
    "from sklearn.metrics import log_loss\n",
    "def get_x_and_y(M, rep):\n",
    "    M_= M[M['repetition'] == rep]\n",
    "    y = list(M_['target'])\n",
    "    feature_inds = list(M_['feature_ind'])\n",
    "    features = F[feature_inds, :]\n",
    "    x = pd.DataFrame(features)\n",
    "    return x, y\n",
    "\n",
    "def get_training_set_error(train_rep):\n",
    "    X_train, y_train = get_x_and_y(M, train_rep)\n",
    "    targets = pd.Series(y_train).unique()\n",
    "    logreg = LogisticRegression(multi_class='multinomial', solver='newton-cg')\n",
    "    logreg.fit(X_train, y_train)\n",
    "    #y_pred = logreg.predict(X_test)\n",
    "    y_pred = logreg.predict_proba(X_train)\n",
    "    # train classifier on these sample sketches from repetition (train) and test on sketches from game g repetition (test)\n",
    "    classification_loss = log_loss(y_train, y_pred, labels=targets)\n",
    "    return classification_loss"
   ]
  },
  {
   "cell_type": "code",
   "execution_count": null,
   "metadata": {
    "collapsed": true
   },
   "outputs": [],
   "source": [
    "games = list(M['gameID'].unique())\n",
    "#targets = list(M['target'].unique())\n",
    "number_of_games = len(games)\n",
    "\n",
    "bootstrap_samples = []\n",
    "for i in range(1000):\n",
    "    sample = np.random.choice(number_of_games, number_of_games)\n",
    "    bootstrap_samples.append(sample)\n",
    "    \n",
    "def get_error(train_rep, test_rep):\n",
    "    \n",
    "    #grand_total_classification_loss = 0\n",
    "    err_df = pd.DataFrame()\n",
    "    for g in games:\n",
    "        print(\"computing average classification loss for game \" + g + \" with train rep: \" + str(train_rep) + \" and test rep: \" + str(test_rep))\n",
    "\n",
    "        samples_without_g = [sample for sample in bootstrap_samples if games.index(g) not in sample] \n",
    "        total_classification_loss = 0\n",
    "        training_set_error = get_training_set_error(train_rep)\n",
    "        sample_index=0\n",
    "        for sample in samples_without_g:\n",
    "            games_ = pd.Series(games)\n",
    "            sample_games = games_[sample] # sample is just a list of indices, so get actual games \n",
    "            sample_games = list(sample_games)\n",
    "            M_train = M[M['gameID'].isin(sample_games)]\n",
    "            X_train, y_train = get_x_and_y(M_train, train_rep)\n",
    "            targets = pd.Series(y_train).unique()\n",
    "            M_test = M[M['gameID'] == g]\n",
    "            X_test, y_test = get_x_and_y(M_test, test_rep)\n",
    "            logreg = LogisticRegression(multi_class='multinomial', solver='newton-cg')\n",
    "            logreg.fit(X_train, y_train)\n",
    "            #y_pred = logreg.predict(X_test)\n",
    "            y_pred = logreg.predict_proba(X_test)\n",
    "            # train classifier on these sample sketches from repetition (train) and test on sketches from game g repetition (test)\n",
    "            classification_loss = log_loss(y_test, y_pred, labels=targets)\n",
    "            total_classification_loss = total_classification_loss + classification_loss\n",
    "            sample_index=sample_index+1\n",
    "        average_classification_loss = total_classification_loss / len(samples_without_g)\n",
    "        error = 0.632 * average_classification_loss + 0.368 * training_set_error\n",
    "        df_to_add = pd.DataFrame([[error, g, sample_index, train_rep, test_rep]], columns=['error', 'gameID', 'sample_index', 'train_rep', 'test_rep'])\n",
    "        err_df = err_df.append(df_to_add)\n",
    "        #grand_total_classification_loss = grand_total_classification_loss + average_classification_loss\n",
    "    #grand_average_classification_loss = grand_total_classification_loss / len(games)\n",
    "\n",
    "    #error_632 = 0.632 * grand_average_classification_loss + 0.368 * training_set_error \n",
    "    return err_df\n",
    "\n",
    "# df_0_1 = get_error(0,1)\n",
    "# df_0_1.to_csv(\"df_0_1.csv\")\n",
    "df_0_7 = get_error(0,7)\n",
    "df_0_7.to_csv(\"df_0_7.csv\")\n",
    "df_7_6 = get_error(7,6)\n",
    "df_7_6.to_csv(\"df_7_6.csv\")\n",
    "df_7_0 = get_error(7,0)\n",
    "df_7_0.to_csv(\"df_7_0.csv\")"
   ]
  },
  {
   "cell_type": "code",
   "execution_count": null,
   "metadata": {
    "collapsed": true
   },
   "outputs": [],
   "source": [
    "df_0_1 = pd.read_csv(\"df_0_1.csv\")\n",
    "all_err_df = pd.concat([df_0_1, df_0_7, df_7_6, df_7_0])\n",
    "all_err_df.to_csv(\"all_err_df.csv\")"
   ]
  },
  {
   "cell_type": "code",
   "execution_count": null,
   "metadata": {
    "collapsed": true
   },
   "outputs": [],
   "source": [
    "# convert to and add distance \n",
    "all_err_df = pd.read_csv(\"all_err_df.csv\")\n",
    "distance_list = []\n",
    "for j,d in all_err_df.iterrows():\n",
    "    distance_list.append(abs(d['test_rep']-d['train_rep']))\n",
    "all_err_df['distance'] = distance_list\n",
    "\n",
    "sns.set_context(\"paper\")\n",
    "plt.figure(figsize=(5,5))\n",
    "sns.pointplot(\n",
    "    data=all_err_df,\n",
    "    x='distance',\n",
    "    y='error',\n",
    "    hue='train_rep',\n",
    "    palette=\"Set1\")"
   ]
  },
  {
   "cell_type": "code",
   "execution_count": null,
   "metadata": {
    "collapsed": true
   },
   "outputs": [],
   "source": []
  },
  {
   "cell_type": "code",
   "execution_count": null,
   "metadata": {
    "collapsed": true
   },
   "outputs": [],
   "source": []
  },
  {
   "cell_type": "code",
   "execution_count": null,
   "metadata": {
    "collapsed": true
   },
   "outputs": [],
   "source": []
  },
  {
   "cell_type": "code",
   "execution_count": null,
   "metadata": {
    "collapsed": true
   },
   "outputs": [],
   "source": []
  },
  {
   "cell_type": "code",
   "execution_count": null,
   "metadata": {
    "collapsed": true
   },
   "outputs": [],
   "source": []
  }
 ],
 "metadata": {
  "kernelspec": {
   "display_name": "Python 2",
   "language": "python",
   "name": "python2"
  },
  "language_info": {
   "codemirror_mode": {
    "name": "ipython",
    "version": 2
   },
   "file_extension": ".py",
   "mimetype": "text/x-python",
   "name": "python",
   "nbconvert_exporter": "python",
   "pygments_lexer": "ipython2",
   "version": "2.7.15"
  }
 },
 "nbformat": 4,
 "nbformat_minor": 2
}
