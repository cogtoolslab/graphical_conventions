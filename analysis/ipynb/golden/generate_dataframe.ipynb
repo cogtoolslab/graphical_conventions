{
 "cells": [
  {
   "cell_type": "code",
   "execution_count": 1,
   "metadata": {
    "collapsed": true
   },
   "outputs": [],
   "source": [
    "from __future__ import division\n",
    "\n",
    "import os\n",
    "import urllib, cStringIO\n",
    "\n",
    "import pymongo as pm\n",
    "\n",
    "import numpy as np\n",
    "import scipy.stats as stats\n",
    "import pandas as pd\n",
    "import json\n",
    "import re\n",
    "\n",
    "from PIL import Image\n",
    "import base64\n",
    "import sys\n",
    "\n",
    "import matplotlib\n",
    "from matplotlib import pylab, mlab, pyplot\n",
    "%matplotlib inline\n",
    "from IPython.core.pylabtools import figsize, getfigs\n",
    "plt = pyplot\n",
    "import seaborn as sns\n",
    "sns.set_context('talk')\n",
    "sns.set_style('white')\n",
    "\n",
    "import warnings\n",
    "warnings.filterwarnings(\"ignore\", category=DeprecationWarning)\n",
    "warnings.filterwarnings(\"ignore\", message=\"numpy.dtype size changed\")\n",
    "warnings.filterwarnings(\"ignore\", message=\"numpy.ufunc size changed\")"
   ]
  },
  {
   "cell_type": "markdown",
   "metadata": {},
   "source": [
    "## setup"
   ]
  },
  {
   "cell_type": "code",
   "execution_count": 2,
   "metadata": {},
   "outputs": [
    {
     "data": {
      "text/plain": [
       "<module 'df_generation_helpers' from '/Users/judithfan/graphical_conventions/analysis/python/df_generation_helpers.pyc'>"
      ]
     },
     "execution_count": 2,
     "metadata": {},
     "output_type": "execute_result"
    }
   ],
   "source": [
    "# directory & file hierarchy\n",
    "proj_dir = os.path.abspath('../../..')\n",
    "analysis_dir = os.getcwd()\n",
    "results_dir = os.path.join(proj_dir,'results')\n",
    "plot_dir = os.path.join(results_dir,'plots')\n",
    "csv_dir = os.path.join(results_dir,'csv')\n",
    "exp_dir = os.path.abspath(os.path.join(proj_dir,'experiments'))\n",
    "sketch_dir = os.path.abspath(os.path.join(proj_dir,'sketches'))\n",
    "\n",
    "## add helpers to python path\n",
    "if os.path.join(proj_dir,'analysis','python') not in sys.path:\n",
    "    sys.path.append(os.path.join(proj_dir,'analysis','python'))\n",
    "    \n",
    "if not os.path.exists(results_dir):\n",
    "    os.makedirs(results_dir)\n",
    "    \n",
    "if not os.path.exists(plot_dir):\n",
    "    os.makedirs(plot_dir)   \n",
    "    \n",
    "if not os.path.exists(csv_dir):\n",
    "    os.makedirs(csv_dir)       \n",
    "    \n",
    "# Assign variables within imported analysis helpers\n",
    "import df_generation_helpers as h\n",
    "if sys.version_info[0]>=3:\n",
    "    from importlib import reload\n",
    "reload(h)"
   ]
  },
  {
   "cell_type": "code",
   "execution_count": 3,
   "metadata": {},
   "outputs": [],
   "source": [
    "# set vars \n",
    "auth = pd.read_csv('auth.txt', header = None) # this auth.txt file contains the password for the sketchloop user\n",
    "pswd = auth.values[0][0]\n",
    "user = 'sketchloop'\n",
    "host = 'rxdhawkins.me' ## cocolab ip address\n",
    "\n",
    "# have to fix this to be able to analyze from local\n",
    "import pymongo as pm\n",
    "conn = pm.MongoClient('mongodb://sketchloop:' + pswd + '@127.0.0.1')\n",
    "db = conn['3dObjects']\n",
    "coll = db['graphical_conventions']\n",
    "\n",
    "# which iteration name should we use?\n",
    "iterationName1 = 'run3_size4_waiting'\n",
    "iterationName2 = 'run4_generalization'"
   ]
  },
  {
   "cell_type": "code",
   "execution_count": 4,
   "metadata": {
    "collapsed": true
   },
   "outputs": [],
   "source": [
    "## list of researcher mturk worker ID's to ignore\n",
    "jefan = ['A1MMCS8S8CTWKU','A1MMCS8S8CTWKV','A1MMCS8S8CTWKS']\n",
    "hawkrobe = ['A1BOIDKD33QSDK']\n",
    "megsano = ['A1DVQQLVZR7W6I']\n",
    "researchers = jefan + hawkrobe + megsano "
   ]
  },
  {
   "cell_type": "code",
   "execution_count": 5,
   "metadata": {},
   "outputs": [
    {
     "name": "stdout",
     "output_type": "stream",
     "text": [
      "15497 stroke records in the database.\n",
      "9314 clickedObj records in the database.\n"
     ]
    }
   ],
   "source": [
    "## run 3 - get total number of stroke and clickedObj events in the collection as a whole\n",
    "S1 = coll.find({ '$and': [{'iterationName':iterationName1}, {'eventType': 'stroke'}]}).sort('time')\n",
    "C1 = coll.find({ '$and': [{'iterationName':iterationName1}, {'eventType': 'clickedObj'}]}).sort('time')\n",
    "\n",
    "## run 4 - get total number of stroke and clickedObj events in the collection as a whole\n",
    "S2 = coll.find({ '$and': [{'iterationName':iterationName2}, {'eventType': 'stroke'}]}).sort('time')\n",
    "C2 = coll.find({ '$and': [{'iterationName':iterationName2}, {'eventType': 'clickedObj'}]}).sort('time')\n",
    "\n",
    "print str(S1.count() + S2.count()) + ' stroke records in the database.'\n",
    "print str(C1.count() + S2.count()) + ' clickedObj records in the database.' # previously 722 so 882 ideally "
   ]
  },
  {
   "cell_type": "markdown",
   "metadata": {},
   "source": [
    "## generate group dataframes"
   ]
  },
  {
   "cell_type": "code",
   "execution_count": 6,
   "metadata": {},
   "outputs": [
    {
     "name": "stdout",
     "output_type": "stream",
     "text": [
      "There are 34 complete games in total.\n",
      "There are 35 complete games in total.\n"
     ]
    }
   ],
   "source": [
    "reload(h)\n",
    "## get list of all candidate games\n",
    "games = coll.distinct('gameid')\n",
    "\n",
    "## get list of complete and valid games\n",
    "run3_complete_games = h.get_complete_and_valid_games(games,coll,iterationName1,researchers=researchers, tolerate_undefined_worker=False)\n",
    "run4_complete_games = h.get_complete_and_valid_games(games,coll,iterationName2,researchers=researchers, tolerate_undefined_worker=False)"
   ]
  },
  {
   "cell_type": "code",
   "execution_count": 14,
   "metadata": {
    "scrolled": true
   },
   "outputs": [
    {
     "name": "stdout",
     "output_type": "stream",
     "text": [
      "Analyzing game 7053-d1f771d6-a55b-4681-961f-5a9ebb43cbdb | 0 of 34 \n",
      "Analyzing game 3558-8fa206a2-9b8c-4d67-a4ab-0832dc0d0f25 | 1 of 34 \n",
      "Analyzing game 6964-d6de9966-f3dd-45df-8d24-d5bfd5d46eb8 | 2 of 34 \n",
      "Analyzing game 4853-a05bfdd7-095c-4b93-bdde-2b99fd29c7a2 | 3 of 34 \n",
      "Analyzing game 5616-7114c020-0e81-482c-952b-b26fc66076a0 | 4 of 34 \n"
     ]
    },
    {
     "ename": "KeyboardInterrupt",
     "evalue": "",
     "output_type": "error",
     "traceback": [
      "\u001b[0;31m-----------------------------------------\u001b[0m",
      "\u001b[0;31mKeyboardInterrupt\u001b[0mTraceback (most recent call last)",
      "\u001b[0;32m<ipython-input-14-496de8a68c2a>\u001b[0m in \u001b[0;36m<module>\u001b[0;34m()\u001b[0m\n\u001b[1;32m      1\u001b[0m \u001b[0mreload\u001b[0m\u001b[0;34m(\u001b[0m\u001b[0mh\u001b[0m\u001b[0;34m)\u001b[0m\u001b[0;34m\u001b[0m\u001b[0m\n\u001b[1;32m      2\u001b[0m \u001b[0;31m## generate actual dataframe and get only valid games (filtering out games with low accuracy, timeouts)\u001b[0m\u001b[0;34m\u001b[0m\u001b[0;34m\u001b[0m\u001b[0m\n\u001b[0;32m----> 3\u001b[0;31m \u001b[0mD_run3\u001b[0m \u001b[0;34m=\u001b[0m \u001b[0mh\u001b[0m\u001b[0;34m.\u001b[0m\u001b[0mgenerate_dataframe\u001b[0m\u001b[0;34m(\u001b[0m\u001b[0mcoll\u001b[0m\u001b[0;34m,\u001b[0m \u001b[0mrun3_complete_games\u001b[0m\u001b[0;34m,\u001b[0m \u001b[0miterationName1\u001b[0m\u001b[0;34m,\u001b[0m \u001b[0mresults_dir\u001b[0m\u001b[0;34m)\u001b[0m\u001b[0;34m\u001b[0m\u001b[0m\n\u001b[0m\u001b[1;32m      4\u001b[0m \u001b[0mD_run4\u001b[0m \u001b[0;34m=\u001b[0m \u001b[0mh\u001b[0m\u001b[0;34m.\u001b[0m\u001b[0mgenerate_dataframe\u001b[0m\u001b[0;34m(\u001b[0m\u001b[0mcoll\u001b[0m\u001b[0;34m,\u001b[0m \u001b[0mrun4_complete_games\u001b[0m\u001b[0;34m,\u001b[0m \u001b[0miterationName2\u001b[0m\u001b[0;34m,\u001b[0m \u001b[0mresults_dir\u001b[0m\u001b[0;34m)\u001b[0m\u001b[0;34m\u001b[0m\u001b[0m\n",
      "\u001b[0;32m/Users/judithfan/graphical_conventions/analysis/python/df_generation_helpers.pyc\u001b[0m in \u001b[0;36mgenerate_dataframe\u001b[0;34m(coll, complete_games, iterationName, results_dir)\u001b[0m\n\u001b[1;32m    206\u001b[0m                     \u001b[0;31m# calculate other measures that have to do with sketch\u001b[0m\u001b[0;34m\u001b[0m\u001b[0;34m\u001b[0m\u001b[0m\n\u001b[1;32m    207\u001b[0m                     \u001b[0my\u001b[0m \u001b[0;34m=\u001b[0m \u001b[0mcoll\u001b[0m\u001b[0;34m.\u001b[0m\u001b[0mfind\u001b[0m\u001b[0;34m(\u001b[0m\u001b[0;34m{\u001b[0m \u001b[0;34m'$and'\u001b[0m\u001b[0;34m:\u001b[0m \u001b[0;34m[\u001b[0m\u001b[0;34m{\u001b[0m\u001b[0;34m'gameid'\u001b[0m\u001b[0;34m:\u001b[0m \u001b[0mg\u001b[0m\u001b[0;34m}\u001b[0m\u001b[0;34m,\u001b[0m \u001b[0;34m{\u001b[0m\u001b[0;34m'eventType'\u001b[0m\u001b[0;34m:\u001b[0m \u001b[0;34m'stroke'\u001b[0m\u001b[0;34m}\u001b[0m\u001b[0;34m,\u001b[0m \u001b[0;34m{\u001b[0m\u001b[0;34m'trialNum'\u001b[0m\u001b[0;34m:\u001b[0m \u001b[0mt\u001b[0m\u001b[0;34m[\u001b[0m\u001b[0;34m'trialNum'\u001b[0m\u001b[0;34m]\u001b[0m\u001b[0;34m}\u001b[0m\u001b[0;34m]\u001b[0m\u001b[0;34m}\u001b[0m\u001b[0;34m)\u001b[0m\u001b[0;34m.\u001b[0m\u001b[0msort\u001b[0m\u001b[0;34m(\u001b[0m\u001b[0;34m'time'\u001b[0m\u001b[0;34m)\u001b[0m\u001b[0;34m\u001b[0m\u001b[0m\n\u001b[0;32m--> 208\u001b[0;31m                     \u001b[0mnum_curves\u001b[0m \u001b[0;34m=\u001b[0m \u001b[0;34m[\u001b[0m\u001b[0mlen\u001b[0m\u001b[0;34m(\u001b[0m\u001b[0;34m[\u001b[0m\u001b[0mm\u001b[0m\u001b[0;34m.\u001b[0m\u001b[0mstart\u001b[0m\u001b[0;34m(\u001b[0m\u001b[0;34m)\u001b[0m \u001b[0;32mfor\u001b[0m \u001b[0mm\u001b[0m \u001b[0;32min\u001b[0m \u001b[0mre\u001b[0m\u001b[0;34m.\u001b[0m\u001b[0mfinditer\u001b[0m\u001b[0;34m(\u001b[0m\u001b[0;34m'c'\u001b[0m\u001b[0;34m,\u001b[0m\u001b[0mstr\u001b[0m\u001b[0;34m(\u001b[0m\u001b[0m_y\u001b[0m\u001b[0;34m[\u001b[0m\u001b[0;34m'svgData'\u001b[0m\u001b[0;34m]\u001b[0m\u001b[0;34m)\u001b[0m\u001b[0;34m)\u001b[0m\u001b[0;34m]\u001b[0m\u001b[0;34m)\u001b[0m \u001b[0;32mfor\u001b[0m \u001b[0m_y\u001b[0m \u001b[0;32min\u001b[0m \u001b[0my\u001b[0m\u001b[0;34m]\u001b[0m \u001b[0;31m## gotcha: need to call string on _y['svgData'], o/w its unicode and re cant do anything with it\u001b[0m\u001b[0;34m\u001b[0m\u001b[0m\n\u001b[0m\u001b[1;32m    209\u001b[0m                     \u001b[0mnumCurvesPerSketch\u001b[0m\u001b[0;34m.\u001b[0m\u001b[0mappend\u001b[0m\u001b[0;34m(\u001b[0m\u001b[0msum\u001b[0m\u001b[0;34m(\u001b[0m\u001b[0mnum_curves\u001b[0m\u001b[0;34m)\u001b[0m\u001b[0;34m)\u001b[0m\u001b[0;34m\u001b[0m\u001b[0m\n\u001b[1;32m    210\u001b[0m                     \u001b[0mnumCurvesPerStroke\u001b[0m\u001b[0;34m.\u001b[0m\u001b[0mappend\u001b[0m\u001b[0;34m(\u001b[0m\u001b[0msum\u001b[0m\u001b[0;34m(\u001b[0m\u001b[0mnum_curves\u001b[0m\u001b[0;34m)\u001b[0m\u001b[0;34m/\u001b[0m\u001b[0mlastStrokeNum\u001b[0m\u001b[0;34m)\u001b[0m\u001b[0;34m\u001b[0m\u001b[0m\n",
      "\u001b[0;32m/Users/judithfan/Library/Python/2.7/lib/python/site-packages/pymongo/cursor.pyc\u001b[0m in \u001b[0;36mnext\u001b[0;34m(self)\u001b[0m\n\u001b[1;32m   1130\u001b[0m         \u001b[0;32mif\u001b[0m \u001b[0mself\u001b[0m\u001b[0;34m.\u001b[0m\u001b[0m__empty\u001b[0m\u001b[0;34m:\u001b[0m\u001b[0;34m\u001b[0m\u001b[0m\n\u001b[1;32m   1131\u001b[0m             \u001b[0;32mraise\u001b[0m \u001b[0mStopIteration\u001b[0m\u001b[0;34m\u001b[0m\u001b[0m\n\u001b[0;32m-> 1132\u001b[0;31m         \u001b[0;32mif\u001b[0m \u001b[0mlen\u001b[0m\u001b[0;34m(\u001b[0m\u001b[0mself\u001b[0m\u001b[0;34m.\u001b[0m\u001b[0m__data\u001b[0m\u001b[0;34m)\u001b[0m \u001b[0;32mor\u001b[0m \u001b[0mself\u001b[0m\u001b[0;34m.\u001b[0m\u001b[0m_refresh\u001b[0m\u001b[0;34m(\u001b[0m\u001b[0;34m)\u001b[0m\u001b[0;34m:\u001b[0m\u001b[0;34m\u001b[0m\u001b[0m\n\u001b[0m\u001b[1;32m   1133\u001b[0m             \u001b[0;32mif\u001b[0m \u001b[0mself\u001b[0m\u001b[0;34m.\u001b[0m\u001b[0m__manipulate\u001b[0m\u001b[0;34m:\u001b[0m\u001b[0;34m\u001b[0m\u001b[0m\n\u001b[1;32m   1134\u001b[0m                 \u001b[0m_db\u001b[0m \u001b[0;34m=\u001b[0m \u001b[0mself\u001b[0m\u001b[0;34m.\u001b[0m\u001b[0m__collection\u001b[0m\u001b[0;34m.\u001b[0m\u001b[0mdatabase\u001b[0m\u001b[0;34m\u001b[0m\u001b[0m\n",
      "\u001b[0;32m/Users/judithfan/Library/Python/2.7/lib/python/site-packages/pymongo/cursor.pyc\u001b[0m in \u001b[0;36m_refresh\u001b[0;34m(self)\u001b[0m\n\u001b[1;32m   1053\u001b[0m                                        \u001b[0mself\u001b[0m\u001b[0;34m.\u001b[0m\u001b[0m__batch_size\u001b[0m\u001b[0;34m,\u001b[0m\u001b[0;34m\u001b[0m\u001b[0m\n\u001b[1;32m   1054\u001b[0m                                        \u001b[0mself\u001b[0m\u001b[0;34m.\u001b[0m\u001b[0m__read_concern\u001b[0m\u001b[0;34m,\u001b[0m\u001b[0;34m\u001b[0m\u001b[0m\n\u001b[0;32m-> 1055\u001b[0;31m                                        self.__collation))\n\u001b[0m\u001b[1;32m   1056\u001b[0m             \u001b[0;32mif\u001b[0m \u001b[0;32mnot\u001b[0m \u001b[0mself\u001b[0m\u001b[0;34m.\u001b[0m\u001b[0m__id\u001b[0m\u001b[0;34m:\u001b[0m\u001b[0;34m\u001b[0m\u001b[0m\n\u001b[1;32m   1057\u001b[0m                 \u001b[0mself\u001b[0m\u001b[0;34m.\u001b[0m\u001b[0m__killed\u001b[0m \u001b[0;34m=\u001b[0m \u001b[0mTrue\u001b[0m\u001b[0;34m\u001b[0m\u001b[0m\n",
      "\u001b[0;32m/Users/judithfan/Library/Python/2.7/lib/python/site-packages/pymongo/cursor.pyc\u001b[0m in \u001b[0;36m__send_message\u001b[0;34m(self, operation)\u001b[0m\n\u001b[1;32m    890\u001b[0m             \u001b[0;32mtry\u001b[0m\u001b[0;34m:\u001b[0m\u001b[0;34m\u001b[0m\u001b[0m\n\u001b[1;32m    891\u001b[0m                 response = client._send_message_with_response(operation,\n\u001b[0;32m--> 892\u001b[0;31m                                                               **kwargs)\n\u001b[0m\u001b[1;32m    893\u001b[0m                 \u001b[0mself\u001b[0m\u001b[0;34m.\u001b[0m\u001b[0m__address\u001b[0m \u001b[0;34m=\u001b[0m \u001b[0mresponse\u001b[0m\u001b[0;34m.\u001b[0m\u001b[0maddress\u001b[0m\u001b[0;34m\u001b[0m\u001b[0m\n\u001b[1;32m    894\u001b[0m                 \u001b[0;32mif\u001b[0m \u001b[0mself\u001b[0m\u001b[0;34m.\u001b[0m\u001b[0m__exhaust\u001b[0m\u001b[0;34m:\u001b[0m\u001b[0;34m\u001b[0m\u001b[0m\n",
      "\u001b[0;32m/Users/judithfan/Library/Python/2.7/lib/python/site-packages/pymongo/mongo_client.pyc\u001b[0m in \u001b[0;36m_send_message_with_response\u001b[0;34m(self, operation, read_preference, exhaust, address)\u001b[0m\n\u001b[1;32m    948\u001b[0m             \u001b[0mself\u001b[0m\u001b[0;34m.\u001b[0m\u001b[0m__all_credentials\u001b[0m\u001b[0;34m,\u001b[0m\u001b[0;34m\u001b[0m\u001b[0m\n\u001b[1;32m    949\u001b[0m             \u001b[0mself\u001b[0m\u001b[0;34m.\u001b[0m\u001b[0m_event_listeners\u001b[0m\u001b[0;34m,\u001b[0m\u001b[0;34m\u001b[0m\u001b[0m\n\u001b[0;32m--> 950\u001b[0;31m             exhaust)\n\u001b[0m\u001b[1;32m    951\u001b[0m \u001b[0;34m\u001b[0m\u001b[0m\n\u001b[1;32m    952\u001b[0m     \u001b[0;32mdef\u001b[0m \u001b[0m_reset_on_error\u001b[0m\u001b[0;34m(\u001b[0m\u001b[0mself\u001b[0m\u001b[0;34m,\u001b[0m \u001b[0mserver\u001b[0m\u001b[0;34m,\u001b[0m \u001b[0mfunc\u001b[0m\u001b[0;34m,\u001b[0m \u001b[0;34m*\u001b[0m\u001b[0margs\u001b[0m\u001b[0;34m,\u001b[0m \u001b[0;34m**\u001b[0m\u001b[0mkwargs\u001b[0m\u001b[0;34m)\u001b[0m\u001b[0;34m:\u001b[0m\u001b[0;34m\u001b[0m\u001b[0m\n",
      "\u001b[0;32m/Users/judithfan/Library/Python/2.7/lib/python/site-packages/pymongo/mongo_client.pyc\u001b[0m in \u001b[0;36m_reset_on_error\u001b[0;34m(self, server, func, *args, **kwargs)\u001b[0m\n\u001b[1;32m    959\u001b[0m         \"\"\"\n\u001b[1;32m    960\u001b[0m         \u001b[0;32mtry\u001b[0m\u001b[0;34m:\u001b[0m\u001b[0;34m\u001b[0m\u001b[0m\n\u001b[0;32m--> 961\u001b[0;31m             \u001b[0;32mreturn\u001b[0m \u001b[0mfunc\u001b[0m\u001b[0;34m(\u001b[0m\u001b[0;34m*\u001b[0m\u001b[0margs\u001b[0m\u001b[0;34m,\u001b[0m \u001b[0;34m**\u001b[0m\u001b[0mkwargs\u001b[0m\u001b[0;34m)\u001b[0m\u001b[0;34m\u001b[0m\u001b[0m\n\u001b[0m\u001b[1;32m    962\u001b[0m         \u001b[0;32mexcept\u001b[0m \u001b[0mNetworkTimeout\u001b[0m\u001b[0;34m:\u001b[0m\u001b[0;34m\u001b[0m\u001b[0m\n\u001b[1;32m    963\u001b[0m             \u001b[0;31m# The socket has been closed. Don't reset the server.\u001b[0m\u001b[0;34m\u001b[0m\u001b[0;34m\u001b[0m\u001b[0m\n",
      "\u001b[0;32m/Users/judithfan/Library/Python/2.7/lib/python/site-packages/pymongo/server.pyc\u001b[0m in \u001b[0;36msend_message_with_response\u001b[0;34m(self, operation, set_slave_okay, all_credentials, listeners, exhaust)\u001b[0m\n\u001b[1;32m    134\u001b[0m             \u001b[0;32mtry\u001b[0m\u001b[0;34m:\u001b[0m\u001b[0;34m\u001b[0m\u001b[0m\n\u001b[1;32m    135\u001b[0m                 \u001b[0msock_info\u001b[0m\u001b[0;34m.\u001b[0m\u001b[0msend_message\u001b[0m\u001b[0;34m(\u001b[0m\u001b[0mdata\u001b[0m\u001b[0;34m,\u001b[0m \u001b[0mmax_doc_size\u001b[0m\u001b[0;34m)\u001b[0m\u001b[0;34m\u001b[0m\u001b[0m\n\u001b[0;32m--> 136\u001b[0;31m                 \u001b[0mresponse_data\u001b[0m \u001b[0;34m=\u001b[0m \u001b[0msock_info\u001b[0m\u001b[0;34m.\u001b[0m\u001b[0mreceive_message\u001b[0m\u001b[0;34m(\u001b[0m\u001b[0;36m1\u001b[0m\u001b[0;34m,\u001b[0m \u001b[0mrequest_id\u001b[0m\u001b[0;34m)\u001b[0m\u001b[0;34m\u001b[0m\u001b[0m\n\u001b[0m\u001b[1;32m    137\u001b[0m             \u001b[0;32mexcept\u001b[0m \u001b[0mException\u001b[0m \u001b[0;32mas\u001b[0m \u001b[0mexc\u001b[0m\u001b[0;34m:\u001b[0m\u001b[0;34m\u001b[0m\u001b[0m\n\u001b[1;32m    138\u001b[0m                 \u001b[0;32mif\u001b[0m \u001b[0mpublish\u001b[0m\u001b[0;34m:\u001b[0m\u001b[0;34m\u001b[0m\u001b[0m\n",
      "\u001b[0;32m/Users/judithfan/Library/Python/2.7/lib/python/site-packages/pymongo/pool.pyc\u001b[0m in \u001b[0;36mreceive_message\u001b[0;34m(self, operation, request_id)\u001b[0m\n\u001b[1;32m    508\u001b[0m                 self.sock, operation, request_id, self.max_message_size)\n\u001b[1;32m    509\u001b[0m         \u001b[0;32mexcept\u001b[0m \u001b[0mBaseException\u001b[0m \u001b[0;32mas\u001b[0m \u001b[0merror\u001b[0m\u001b[0;34m:\u001b[0m\u001b[0;34m\u001b[0m\u001b[0m\n\u001b[0;32m--> 510\u001b[0;31m             \u001b[0mself\u001b[0m\u001b[0;34m.\u001b[0m\u001b[0m_raise_connection_failure\u001b[0m\u001b[0;34m(\u001b[0m\u001b[0merror\u001b[0m\u001b[0;34m)\u001b[0m\u001b[0;34m\u001b[0m\u001b[0m\n\u001b[0m\u001b[1;32m    511\u001b[0m \u001b[0;34m\u001b[0m\u001b[0m\n\u001b[1;32m    512\u001b[0m     \u001b[0;32mdef\u001b[0m \u001b[0mlegacy_write\u001b[0m\u001b[0;34m(\u001b[0m\u001b[0mself\u001b[0m\u001b[0;34m,\u001b[0m \u001b[0mrequest_id\u001b[0m\u001b[0;34m,\u001b[0m \u001b[0mmsg\u001b[0m\u001b[0;34m,\u001b[0m \u001b[0mmax_doc_size\u001b[0m\u001b[0;34m,\u001b[0m \u001b[0mwith_last_error\u001b[0m\u001b[0;34m)\u001b[0m\u001b[0;34m:\u001b[0m\u001b[0;34m\u001b[0m\u001b[0m\n",
      "\u001b[0;32m/Users/judithfan/Library/Python/2.7/lib/python/site-packages/pymongo/pool.pyc\u001b[0m in \u001b[0;36m_raise_connection_failure\u001b[0;34m(self, error)\u001b[0m\n\u001b[1;32m    608\u001b[0m             \u001b[0m_raise_connection_failure\u001b[0m\u001b[0;34m(\u001b[0m\u001b[0mself\u001b[0m\u001b[0;34m.\u001b[0m\u001b[0maddress\u001b[0m\u001b[0;34m,\u001b[0m \u001b[0merror\u001b[0m\u001b[0;34m)\u001b[0m\u001b[0;34m\u001b[0m\u001b[0m\n\u001b[1;32m    609\u001b[0m         \u001b[0;32melse\u001b[0m\u001b[0;34m:\u001b[0m\u001b[0;34m\u001b[0m\u001b[0m\n\u001b[0;32m--> 610\u001b[0;31m             \u001b[0;32mraise\u001b[0m \u001b[0merror\u001b[0m\u001b[0;34m\u001b[0m\u001b[0m\n\u001b[0m\u001b[1;32m    611\u001b[0m \u001b[0;34m\u001b[0m\u001b[0m\n\u001b[1;32m    612\u001b[0m     \u001b[0;32mdef\u001b[0m \u001b[0m__eq__\u001b[0m\u001b[0;34m(\u001b[0m\u001b[0mself\u001b[0m\u001b[0;34m,\u001b[0m \u001b[0mother\u001b[0m\u001b[0;34m)\u001b[0m\u001b[0;34m:\u001b[0m\u001b[0;34m\u001b[0m\u001b[0m\n",
      "\u001b[0;31mKeyboardInterrupt\u001b[0m: "
     ]
    }
   ],
   "source": [
    "reload(h)\n",
    "## generate actual dataframe and get only valid games (filtering out games with low accuracy, timeouts)\n",
    "D_run3 = h.generate_dataframe(coll, run3_complete_games, iterationName1, results_dir)\n",
    "D_run4 = h.generate_dataframe(coll, run4_complete_games, iterationName2, results_dir)"
   ]
  },
  {
   "cell_type": "code",
   "execution_count": null,
   "metadata": {
    "collapsed": true
   },
   "outputs": [],
   "source": [
    "## filtering outliers \n",
    "D_run3_filtered = h.filter_crazies(D_run3, 'numStrokes')\n",
    "D_run3_filtered = h.filter_crazies(D_run3_filtered, 'numCurvesPerSketch')\n",
    "D_run4_filtered = h.filter_crazies(D_run4, 'numStrokes')\n",
    "D_run4_filtered = h.filter_crazies(D_run4_filtered, 'numCurvesPerSketch')\n",
    "\n",
    "# filter out incorrect trials \n",
    "D_run3_correct = D_run3_filtered[D_run3_filtered['outcome'] == True]\n",
    "D_run4_correct = D_run4_filtered[D_run4_filtered['outcome'] == True]\n",
    "\n",
    "# keep this dataframe and make normalized dataframe for within-subject errors \n",
    "D_run3_normalized = D_run3_correct.copy(deep = True)\n",
    "D_run4_normalized = D_run4_correct.copy(deep = True)\n",
    "\n",
    "reload(h)\n",
    "D_run3_normalized = h.grand_mean_normalize(D_run3_normalized, 'numStrokes', run3_complete_games)\n",
    "D_run3_normalized = h.grand_mean_normalize(D_run3_normalized, 'drawDuration', run3_complete_games)\n",
    "D_run3_normalized = h.grand_mean_normalize(D_run3_normalized, 'numCurvesPerSketch', run3_complete_games)\n",
    "D_run3_normalized = h.grand_mean_normalize(D_run3_normalized, 'meanPixelIntensity', run3_complete_games)\n",
    "\n",
    "D_run4_normalized = h.grand_mean_normalize(D_run4_normalized, 'numStrokes', run4_complete_games)\n",
    "D_run4_normalized = h.grand_mean_normalize(D_run4_normalized, 'drawDuration', run4_complete_games)\n",
    "D_run4_normalized = h.grand_mean_normalize(D_run4_normalized, 'numCurvesPerSketch', run4_complete_games)\n",
    "D_run4_normalized = h.grand_mean_normalize(D_run4_normalized, 'meanPixelIntensity', run4_complete_games)\n",
    "\n",
    "# writing out data \n",
    "\n",
    "## raw, unfiltered\n",
    "D_run3.to_csv(os.path.join(results_dir, 'graphical_conventions_{}_{}.csv'.format('run3', 'raw')))\n",
    "D_run4.to_csv(os.path.join(results_dir, 'graphical_conventions_{}_{}.csv'.format('run4', 'raw')))\n",
    "\n",
    "## filtered, but includes correct and incorrect trials \n",
    "D_run3_filtered.to_csv(os.path.join(results_dir, 'graphical_conventions_{}_{}.csv'.format('run3', 'filtered')))\n",
    "D_run4_filtered.to_csv(os.path.join(results_dir, 'graphical_conventions_{}_{}.csv'.format('run4', 'filtered')))\n",
    "\n",
    "## filtered, and correct trials only \n",
    "D_run3_correct.to_csv(os.path.join(results_dir,'graphical_conventions_{}_{}.csv'.format('run3', 'unnormalized')))\n",
    "D_run4_correct.to_csv(os.path.join(results_dir,'graphical_conventions_{}_{}.csv'.format('run4', 'unnormalized')))\n",
    "\n",
    "## filtered, correct trials only, and normalized within subject \n",
    "D_run3_normalized.to_csv(os.path.join(results_dir,'graphical_conventions_{}_{}.csv'.format('run3', 'normalized')))\n",
    "D_run4_normalized.to_csv(os.path.join(results_dir,'graphical_conventions_{}_{}.csv'.format('run4', 'normalized')))"
   ]
  },
  {
   "cell_type": "code",
   "execution_count": null,
   "metadata": {
    "collapsed": true
   },
   "outputs": [],
   "source": []
  },
  {
   "cell_type": "markdown",
   "metadata": {},
   "source": [
    "### load in pre-existing dataframes to get png renders to extract features"
   ]
  },
  {
   "cell_type": "code",
   "execution_count": 15,
   "metadata": {
    "collapsed": true
   },
   "outputs": [],
   "source": [
    "fpath = os.path.join(results_dir,'graphical_conventions_{}_{}.csv'.format('run3', 'unnormalized'))\n",
    "D_run3_correct = pd.read_csv(fpath)\n",
    "\n",
    "fpath = os.path.join(results_dir,'graphical_conventions_{}_{}.csv'.format('run4', 'unnormalized'))\n",
    "D_run4_correct = pd.read_csv(fpath)"
   ]
  },
  {
   "cell_type": "code",
   "execution_count": null,
   "metadata": {},
   "outputs": [],
   "source": []
  },
  {
   "cell_type": "code",
   "execution_count": 32,
   "metadata": {},
   "outputs": [
    {
     "data": {
      "text/plain": [
       "<module 'df_generation_helpers' from '/Users/judithfan/graphical_conventions/analysis/python/df_generation_helpers.py'>"
      ]
     },
     "execution_count": 32,
     "metadata": {},
     "output_type": "execute_result"
    }
   ],
   "source": [
    "reload(h)"
   ]
  },
  {
   "cell_type": "code",
   "execution_count": null,
   "metadata": {},
   "outputs": [
    {
     "name": "stdout",
     "output_type": "stream",
     "text": [
      "saving trial 1 sketch from game: 7053-d1f771d6-a55b-4681-961f-5a9ebb43cbdb\n",
      "saving trial 12 sketch from game: 7053-d1f771d6-a55b-4681-961f-5a9ebb43cbdb\n",
      "saving trial 25 sketch from game: 7053-d1f771d6-a55b-4681-961f-5a9ebb43cbdb\n",
      "saving trial 35 sketch from game: 7053-d1f771d6-a55b-4681-961f-5a9ebb43cbdb\n",
      "saving trial 6 sketch from game: 3558-8fa206a2-9b8c-4d67-a4ab-0832dc0d0f25\n",
      "saving trial 17 sketch from game: 3558-8fa206a2-9b8c-4d67-a4ab-0832dc0d0f25\n",
      "saving trial 27 sketch from game: 3558-8fa206a2-9b8c-4d67-a4ab-0832dc0d0f25\n",
      "saving trial 38 sketch from game: 3558-8fa206a2-9b8c-4d67-a4ab-0832dc0d0f25\n",
      "saving trial 9 sketch from game: 6964-d6de9966-f3dd-45df-8d24-d5bfd5d46eb8\n",
      "saving trial 19 sketch from game: 6964-d6de9966-f3dd-45df-8d24-d5bfd5d46eb8\n",
      "saving trial 29 sketch from game: 6964-d6de9966-f3dd-45df-8d24-d5bfd5d46eb8\n",
      "saving trial 39 sketch from game: 6964-d6de9966-f3dd-45df-8d24-d5bfd5d46eb8\n",
      "saving trial 11 sketch from game: 4853-a05bfdd7-095c-4b93-bdde-2b99fd29c7a2\n",
      "saving trial 22 sketch from game: 4853-a05bfdd7-095c-4b93-bdde-2b99fd29c7a2\n",
      "saving trial 32 sketch from game: 4853-a05bfdd7-095c-4b93-bdde-2b99fd29c7a2\n",
      "saving trial 3 sketch from game: 5616-7114c020-0e81-482c-952b-b26fc66076a0\n",
      "saving trial 17 sketch from game: 5616-7114c020-0e81-482c-952b-b26fc66076a0\n",
      "saving trial 31 sketch from game: 5616-7114c020-0e81-482c-952b-b26fc66076a0\n",
      "saving trial 3 sketch from game: 9817-6f2a66db-fc24-482d-aa20-1980ad6f524e\n",
      "saving trial 15 sketch from game: 9817-6f2a66db-fc24-482d-aa20-1980ad6f524e\n",
      "saving trial 25 sketch from game: 9817-6f2a66db-fc24-482d-aa20-1980ad6f524e\n",
      "saving trial 37 sketch from game: 9817-6f2a66db-fc24-482d-aa20-1980ad6f524e\n",
      "saving trial 8 sketch from game: 1820-86afdf51-4b4c-43a9-a9e1-e6e20618de1b\n",
      "saving trial 19 sketch from game: 1820-86afdf51-4b4c-43a9-a9e1-e6e20618de1b\n",
      "saving trial 29 sketch from game: 1820-86afdf51-4b4c-43a9-a9e1-e6e20618de1b\n",
      "saving trial 40 sketch from game: 1820-86afdf51-4b4c-43a9-a9e1-e6e20618de1b\n",
      "saving trial 15 sketch from game: 7438-c77fa69e-d41c-41a4-b530-fc2809c07323\n",
      "saving trial 25 sketch from game: 7438-c77fa69e-d41c-41a4-b530-fc2809c07323\n",
      "saving trial 35 sketch from game: 7438-c77fa69e-d41c-41a4-b530-fc2809c07323\n",
      "saving trial 6 sketch from game: 9075-d6c9b0a6-bfb2-4148-ae19-d0da518aef97\n",
      "saving trial 17 sketch from game: 9075-d6c9b0a6-bfb2-4148-ae19-d0da518aef97\n",
      "saving trial 30 sketch from game: 9075-d6c9b0a6-bfb2-4148-ae19-d0da518aef97\n",
      "saving trial 40 sketch from game: 9075-d6c9b0a6-bfb2-4148-ae19-d0da518aef97\n",
      "saving trial 13 sketch from game: 7637-26870e81-faae-4521-a2e9-10424526a22c\n",
      "saving trial 24 sketch from game: 7637-26870e81-faae-4521-a2e9-10424526a22c\n",
      "saving trial 36 sketch from game: 7637-26870e81-faae-4521-a2e9-10424526a22c\n",
      "saving trial 10 sketch from game: 4395-6cdb78e3-0c3f-4526-9670-8e4c1dcbc542\n",
      "saving trial 22 sketch from game: 4395-6cdb78e3-0c3f-4526-9670-8e4c1dcbc542\n",
      "saving trial 35 sketch from game: 4395-6cdb78e3-0c3f-4526-9670-8e4c1dcbc542\n",
      "saving trial 7 sketch from game: 3480-03933bf3-5e7e-4ecd-b151-7ae57e6ae826\n",
      "saving trial 17 sketch from game: 3480-03933bf3-5e7e-4ecd-b151-7ae57e6ae826\n",
      "saving trial 28 sketch from game: 3480-03933bf3-5e7e-4ecd-b151-7ae57e6ae826\n",
      "saving trial 39 sketch from game: 3480-03933bf3-5e7e-4ecd-b151-7ae57e6ae826\n",
      "saving trial 14 sketch from game: 7360-1ccf92da-d46d-4315-8c81-6620388ee62f\n",
      "saving trial 25 sketch from game: 7360-1ccf92da-d46d-4315-8c81-6620388ee62f\n",
      "saving trial 37 sketch from game: 7360-1ccf92da-d46d-4315-8c81-6620388ee62f\n",
      "saving trial 9 sketch from game: 8103-96ba70c4-9236-4e40-bc20-24712d13bf3d\n",
      "saving trial 20 sketch from game: 8103-96ba70c4-9236-4e40-bc20-24712d13bf3d\n",
      "saving trial 31 sketch from game: 8103-96ba70c4-9236-4e40-bc20-24712d13bf3d\n",
      "saving trial 2 sketch from game: 4432-efb565d2-4b2c-4d55-af90-3a8c7d06477d\n",
      "saving trial 12 sketch from game: 4432-efb565d2-4b2c-4d55-af90-3a8c7d06477d\n",
      "saving trial 22 sketch from game: 4432-efb565d2-4b2c-4d55-af90-3a8c7d06477d\n",
      "saving trial 32 sketch from game: 4432-efb565d2-4b2c-4d55-af90-3a8c7d06477d\n",
      "saving trial 4 sketch from game: 3546-9d7a95c2-b4c6-426d-935b-6da59496af1d\n",
      "saving trial 16 sketch from game: 3546-9d7a95c2-b4c6-426d-935b-6da59496af1d\n",
      "saving trial 26 sketch from game: 3546-9d7a95c2-b4c6-426d-935b-6da59496af1d\n",
      "saving trial 38 sketch from game: 3546-9d7a95c2-b4c6-426d-935b-6da59496af1d\n",
      "saving trial 10 sketch from game: 4516-5b316bf5-da1c-42cb-a9c1-0814d2b18f27\n",
      "saving trial 20 sketch from game: 4516-5b316bf5-da1c-42cb-a9c1-0814d2b18f27\n",
      "saving trial 30 sketch from game: 4516-5b316bf5-da1c-42cb-a9c1-0814d2b18f27\n",
      "saving trial 3 sketch from game: 1781-59e66c90-3a35-4e43-aea6-6f8860c3a543\n",
      "saving trial 16 sketch from game: 1781-59e66c90-3a35-4e43-aea6-6f8860c3a543\n",
      "saving trial 28 sketch from game: 1781-59e66c90-3a35-4e43-aea6-6f8860c3a543\n",
      "saving trial 2 sketch from game: 7421-9f538991-c10f-44fc-9dd1-e9b377065ad8\n",
      "saving trial 14 sketch from game: 7421-9f538991-c10f-44fc-9dd1-e9b377065ad8\n",
      "saving trial 25 sketch from game: 7421-9f538991-c10f-44fc-9dd1-e9b377065ad8\n",
      "saving trial 35 sketch from game: 7421-9f538991-c10f-44fc-9dd1-e9b377065ad8\n",
      "saving trial 6 sketch from game: 5408-c0bdf20b-7f65-49fb-aea3-0dd72e154ebd\n",
      "saving trial 18 sketch from game: 5408-c0bdf20b-7f65-49fb-aea3-0dd72e154ebd\n",
      "saving trial 29 sketch from game: 5408-c0bdf20b-7f65-49fb-aea3-0dd72e154ebd\n",
      "saving trial 40 sketch from game: 5408-c0bdf20b-7f65-49fb-aea3-0dd72e154ebd\n",
      "saving trial 13 sketch from game: 5214-62825001-ac78-4b1f-b173-c837134e533b\n",
      "saving trial 24 sketch from game: 5214-62825001-ac78-4b1f-b173-c837134e533b\n",
      "saving trial 35 sketch from game: 5214-62825001-ac78-4b1f-b173-c837134e533b\n",
      "saving trial 7 sketch from game: 0724-1a59371c-6fe6-4d6d-a987-db533e75a5e5\n",
      "saving trial 18 sketch from game: 0724-1a59371c-6fe6-4d6d-a987-db533e75a5e5\n",
      "saving trial 32 sketch from game: 0724-1a59371c-6fe6-4d6d-a987-db533e75a5e5\n",
      "saving trial 4 sketch from game: 2040-7604415a-2963-4416-a78c-e2fdc7e670ac\n",
      "saving trial 18 sketch from game: 2040-7604415a-2963-4416-a78c-e2fdc7e670ac\n",
      "saving trial 29 sketch from game: 2040-7604415a-2963-4416-a78c-e2fdc7e670ac\n",
      "saving trial 2 sketch from game: 8384-deeaec6b-d2a1-4f6e-ae6c-6140dfbb4071\n",
      "saving trial 17 sketch from game: 8384-deeaec6b-d2a1-4f6e-ae6c-6140dfbb4071\n",
      "saving trial 27 sketch from game: 8384-deeaec6b-d2a1-4f6e-ae6c-6140dfbb4071\n",
      "saving trial 39 sketch from game: 8384-deeaec6b-d2a1-4f6e-ae6c-6140dfbb4071\n",
      "saving trial 11 sketch from game: 6388-4e8fd744-2165-44fc-866a-5d68aff23732\n",
      "saving trial 21 sketch from game: 6388-4e8fd744-2165-44fc-866a-5d68aff23732\n",
      "saving trial 31 sketch from game: 6388-4e8fd744-2165-44fc-866a-5d68aff23732\n",
      "saving trial 4 sketch from game: 1979-cf0efe08-9b6f-49a7-8200-43f0e7744dbc\n",
      "saving trial 14 sketch from game: 1979-cf0efe08-9b6f-49a7-8200-43f0e7744dbc\n",
      "saving trial 26 sketch from game: 1979-cf0efe08-9b6f-49a7-8200-43f0e7744dbc\n",
      "saving trial 37 sketch from game: 1979-cf0efe08-9b6f-49a7-8200-43f0e7744dbc\n",
      "saving trial 9 sketch from game: 2349-8db5cdc6-e266-4486-a9c2-b99b80593419\n",
      "saving trial 20 sketch from game: 2349-8db5cdc6-e266-4486-a9c2-b99b80593419\n",
      "saving trial 30 sketch from game: 2349-8db5cdc6-e266-4486-a9c2-b99b80593419\n",
      "saving trial 1 sketch from game: 9614-d370a26e-7936-49e5-add7-05e6d31dda4a\n",
      "saving trial 17 sketch from game: 9614-d370a26e-7936-49e5-add7-05e6d31dda4a\n",
      "saving trial 27 sketch from game: 9614-d370a26e-7936-49e5-add7-05e6d31dda4a\n",
      "saving trial 38 sketch from game: 9614-d370a26e-7936-49e5-add7-05e6d31dda4a\n",
      "saving trial 10 sketch from game: 6459-b31ded08-1443-4005-8cea-256cf02be3df\n",
      "saving trial 25 sketch from game: 6459-b31ded08-1443-4005-8cea-256cf02be3df\n",
      "saving trial 39 sketch from game: 6459-b31ded08-1443-4005-8cea-256cf02be3df\n",
      "saving trial 16 sketch from game: 0286-a442ec93-ad78-42fa-b3e9-083da9a64c4d\n",
      "saving trial 26 sketch from game: 0286-a442ec93-ad78-42fa-b3e9-083da9a64c4d\n",
      "saving trial 37 sketch from game: 0286-a442ec93-ad78-42fa-b3e9-083da9a64c4d\n",
      "saving trial 8 sketch from game: 4152-970406c3-17ba-435b-a56b-4f1f79f00119\n",
      "saving trial 20 sketch from game: 4152-970406c3-17ba-435b-a56b-4f1f79f00119\n",
      "saving trial 30 sketch from game: 4152-970406c3-17ba-435b-a56b-4f1f79f00119\n",
      "saving trial 3 sketch from game: 4529-638b7428-2c20-4fb2-a388-1c7513f675d1\n",
      "saving trial 15 sketch from game: 4529-638b7428-2c20-4fb2-a388-1c7513f675d1\n",
      "saving trial 26 sketch from game: 4529-638b7428-2c20-4fb2-a388-1c7513f675d1\n",
      "saving trial 37 sketch from game: 4529-638b7428-2c20-4fb2-a388-1c7513f675d1\n",
      "saving trial 12 sketch from game: 3522-5f73221e-1d4d-4e32-80ca-939e04b87bc3\n",
      "saving trial 25 sketch from game: 3522-5f73221e-1d4d-4e32-80ca-939e04b87bc3\n",
      "saving trial 37 sketch from game: 3522-5f73221e-1d4d-4e32-80ca-939e04b87bc3\n",
      "saving trial 1 sketch from game: 0836-215b3490-cdf2-4a13-b55a-ea90f7b1903b\n",
      "saving trial 13 sketch from game: 0836-215b3490-cdf2-4a13-b55a-ea90f7b1903b\n",
      "saving trial 25 sketch from game: 0836-215b3490-cdf2-4a13-b55a-ea90f7b1903b\n",
      "saving trial 35 sketch from game: 0836-215b3490-cdf2-4a13-b55a-ea90f7b1903b\n",
      "saving trial 5 sketch from game: 8705-4970135a-e63c-4cd1-953f-d5850978a781\n",
      "saving trial 17 sketch from game: 8705-4970135a-e63c-4cd1-953f-d5850978a781\n",
      "saving trial 28 sketch from game: 8705-4970135a-e63c-4cd1-953f-d5850978a781\n",
      "saving trial 39 sketch from game: 8705-4970135a-e63c-4cd1-953f-d5850978a781\n",
      "saving trial 9 sketch from game: 0051-e13f6f0c-ae9b-4976-8fcd-870cdb75f63f\n",
      "saving trial 21 sketch from game: 0051-e13f6f0c-ae9b-4976-8fcd-870cdb75f63f\n",
      "saving trial 31 sketch from game: 0051-e13f6f0c-ae9b-4976-8fcd-870cdb75f63f\n",
      "saving trial 4 sketch from game: 9790-3a0dd9df-cae0-4f97-95b4-93bf1d0bfd09\n",
      "saving trial 17 sketch from game: 9790-3a0dd9df-cae0-4f97-95b4-93bf1d0bfd09\n",
      "saving trial 27 sketch from game: 9790-3a0dd9df-cae0-4f97-95b4-93bf1d0bfd09\n",
      "saving trial 38 sketch from game: 9790-3a0dd9df-cae0-4f97-95b4-93bf1d0bfd09\n",
      "saving trial 12 sketch from game: 9289-9e66fe1c-fc3d-4fc3-868f-ac6a2c7def6e\n"
     ]
    }
   ],
   "source": [
    "h.save_sketches(D_run3_correct, sketch_dir, 'combined', 'run3')\n",
    "h.save_sketches(D_run4_correct, sketch_dir, 'combined', 'run4')"
   ]
  },
  {
   "cell_type": "code",
   "execution_count": 23,
   "metadata": {
    "collapsed": true
   },
   "outputs": [],
   "source": [
    "D = D_run3_correct"
   ]
  },
  {
   "cell_type": "code",
   "execution_count": 26,
   "metadata": {},
   "outputs": [
    {
     "data": {
      "text/plain": [
       "Unnamed: 0                                                                  0\n",
       "gameID                              7053-d1f771d6-a55b-4681-961f-5a9ebb43cbdb\n",
       "trialNum                                                                    1\n",
       "condition                                                            repeated\n",
       "target                                                             waiting_07\n",
       "category                                                              waiting\n",
       "repetition                                                                  0\n",
       "phase                                                                     pre\n",
       "Generalization                                                         within\n",
       "drawDuration                                                            5.415\n",
       "outcome                                                                  True\n",
       "response                                                           waiting_07\n",
       "numStrokes                                                                  3\n",
       "meanPixelIntensity                                                     0.0068\n",
       "svgStringLength                                                           240\n",
       "svgStringLengthPerStroke                                                   80\n",
       "svgStringStd                                                          19.8158\n",
       "numCurvesPerSketch                                                          7\n",
       "numCurvesPerStroke                                                    2.33333\n",
       "timedOut                                                                False\n",
       "png                         iVBORw0KGgoAAAANSUhEUgAAASwAAAEsCAYAAAB5fY51AA...\n",
       "Name: 0, dtype: object"
      ]
     },
     "execution_count": 26,
     "metadata": {},
     "output_type": "execute_result"
    }
   ],
   "source": [
    "D.iloc[0]"
   ]
  },
  {
   "cell_type": "code",
   "execution_count": null,
   "metadata": {
    "collapsed": true
   },
   "outputs": [],
   "source": [
    "_D = D[D['condition'] == 'repeated']\n",
    "for i,_d in _D.iterrows():\n",
    "    print (\"saving trial {} sketch from game: {}\".format(_d['trialNum'],_d['gameID']))\n",
    "    g = _d['gameID']\n",
    "    imgData = _d['png']\n",
    "    trialNum = _d['trialNum']\n",
    "    target = _d['target']\n",
    "    repetition = _d['repetition']\n",
    "    filestr = base64.b64decode(imgData)\n",
    "    fname = 'sketch.png'\n",
    "    with open(fname, \"wb\") as fh:\n",
    "        fh.write(imgData.decode('base64'))\n",
    "    im = Image.open(fname)\n",
    "    #im = im.convert(\"RGB\")\n",
    "    ### saving sketches to sketch_dir \n",
    "    filepath = os.path.join('{}_{}_{}_{}_{}.png'.format(g, trialNum, target, repetition, iterationName))     \n",
    "    if not os.path.exists(os.path.join(sketch_dir,dir_name)):\n",
    "        os.makedirs(os.path.join(sketch_dir,dir_name))\n",
    "    im.save(os.path.join(sketch_dir,dir_name,filepath))"
   ]
  }
 ],
 "metadata": {
  "kernelspec": {
   "display_name": "Python 2",
   "language": "python",
   "name": "python2"
  },
  "language_info": {
   "codemirror_mode": {
    "name": "ipython",
    "version": 2
   },
   "file_extension": ".py",
   "mimetype": "text/x-python",
   "name": "python",
   "nbconvert_exporter": "python",
   "pygments_lexer": "ipython2",
   "version": "2.7.6"
  }
 },
 "nbformat": 4,
 "nbformat_minor": 2
}
