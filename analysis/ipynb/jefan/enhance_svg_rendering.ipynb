{
 "cells": [
  {
   "cell_type": "code",
   "execution_count": null,
   "metadata": {
    "collapsed": true
   },
   "outputs": [],
   "source": [
    "from __future__ import division\n",
    "import os, sys\n",
    "import urllib, cStringIO\n",
    "import pymongo as pm ## first establish ssh tunnel to server where database is running\n",
    "import base64\n",
    "import numpy as np\n",
    "from numpy import *\n",
    "import PIL\n",
    "from PIL import Image\n",
    "import base64\n",
    "import matplotlib\n",
    "from matplotlib import pylab, mlab, pyplot\n",
    "from IPython.core.pylabtools import figsize, getfigs\n",
    "plt = pyplot\n",
    "import seaborn as sns\n",
    "sns.set_context('poster')\n",
    "sns.set_style('white')\n",
    "from matplotlib.path import Path\n",
    "import matplotlib.patches as patches\n",
    "\n",
    "import pandas as pd\n",
    "from svgpathtools import parse_path, wsvg, svg2paths"
   ]
  },
  {
   "cell_type": "markdown",
   "metadata": {},
   "source": [
    "### setup"
   ]
  },
  {
   "cell_type": "code",
   "execution_count": 2,
   "metadata": {
    "collapsed": false
   },
   "outputs": [],
   "source": [
    "# directory & file hierarchy\n",
    "proj_dir = os.path.abspath('../../..')\n",
    "analysis_dir = os.getcwd()\n",
    "results_dir = os.path.join(proj_dir,'results')\n",
    "plot_dir = os.path.join(results_dir,'plots')\n",
    "csv_dir = os.path.join(results_dir,'csv')\n",
    "exp_dir = os.path.abspath(os.path.join(proj_dir,'experiments'))\n",
    "sketch_dir = os.path.abspath(os.path.join(proj_dir,'sketches'))\n",
    "\n",
    "## add helpers to python path\n",
    "if os.path.join(proj_dir,'analysis','python') not in sys.path:\n",
    "    sys.path.insert(1,os.path.join(proj_dir,'analysis','python'))\n",
    "    \n",
    "if not os.path.exists(results_dir):\n",
    "    os.makedirs(results_dir)\n",
    "    \n",
    "if not os.path.exists(plot_dir):\n",
    "    os.makedirs(plot_dir)   \n",
    "    \n",
    "if not os.path.exists(csv_dir):\n",
    "    os.makedirs(csv_dir)       \n",
    "    \n",
    "# Assign variables within imported analysis helpers\n",
    "import analysis_helpers as h\n",
    "if sys.version_info[0]>=3:\n",
    "    from importlib import reload\n",
    "reload(h)\n",
    "\n",
    "import svg_rendering_helpers as srh\n",
    "reload(srh)"
   ]
  },
  {
   "cell_type": "code",
   "execution_count": 3,
   "metadata": {
    "collapsed": true
   },
   "outputs": [],
   "source": [
    "# set vars \n",
    "auth = pd.read_csv('auth.txt', header = None) # this auth.txt file contains the password for the sketchloop user\n",
    "pswd = auth.values[0][0]\n",
    "user = 'sketchloop'\n",
    "host = 'rxdhawkins.me' ## cocolab ip address\n",
    "\n",
    "# have to fix this to be able to analyze from local\n",
    "import pymongo as pm\n",
    "conn = pm.MongoClient('mongodb://sketchloop:' + pswd + '@127.0.0.1')\n",
    "db = conn['3dObjects']\n",
    "coll = db['graphical_conventions']\n",
    "\n",
    "# which iteration name should we use?\n",
    "## \"good\" iterations that we currently combine: ['run3_size4_waiting', 'run4_generalization']\n",
    "iterationNames = ['run3_size4_waiting', 'run4_generalization']"
   ]
  },
  {
   "cell_type": "markdown",
   "metadata": {},
   "source": [
    "### svg rendering"
   ]
  },
  {
   "cell_type": "code",
   "execution_count": 4,
   "metadata": {
    "collapsed": false
   },
   "outputs": [],
   "source": [
    "# list of all gameids across iterationNames\n",
    "gameids = coll.find({'iterationName': {'$in': iterationNames}}).distinct('gameid')"
   ]
  },
  {
   "cell_type": "code",
   "execution_count": 5,
   "metadata": {
    "collapsed": false
   },
   "outputs": [],
   "source": [
    "# sample game\n",
    "this_game = gameids[10]"
   ]
  },
  {
   "cell_type": "code",
   "execution_count": 6,
   "metadata": {
    "collapsed": true
   },
   "outputs": [],
   "source": [
    "# sample stroke recs from a trial\n",
    "this_trial = 2\n",
    "stroke_recs = coll.find({ '$and': [{'gameid': this_game}, \n",
    "                                   {'eventType': 'stroke'}, \n",
    "                                   {'trialNum':this_trial}]}).sort('time')"
   ]
  },
  {
   "cell_type": "code",
   "execution_count": 7,
   "metadata": {
    "collapsed": false
   },
   "outputs": [],
   "source": [
    "# get list of svgs\n",
    "svg_list = srh.make_svg_list(stroke_recs)"
   ]
  },
  {
   "cell_type": "code",
   "execution_count": 8,
   "metadata": {
    "collapsed": false
   },
   "outputs": [],
   "source": [
    "# grab sample stroke\n",
    "this_stroke = svg_list[0]"
   ]
  },
  {
   "cell_type": "code",
   "execution_count": 9,
   "metadata": {
    "collapsed": false
   },
   "outputs": [],
   "source": [
    "parsed1 = parse_path(svg_list[0])\n",
    "parsed2 = parse_path(svg_list[1])"
   ]
  },
  {
   "cell_type": "code",
   "execution_count": 10,
   "metadata": {
    "collapsed": false
   },
   "outputs": [],
   "source": [
    "## list of paths to render out in same svg\n",
    "parsed = [parsed1,parsed2]"
   ]
  },
  {
   "cell_type": "markdown",
   "metadata": {},
   "source": [
    "#### wsvg arguments\n",
    "```\n",
    "wsvg(paths=None, colors=None, filename=join, stroke_widths=None, nodes=None, node_colors=None, node_radii=None, openinbrowser=False, timestamp=False, margin_size=0.1, mindim=600, dimensions=None, viewbox=None, text=None, text_path=None, font_size=None, attributes=None, svg_attributes=None)\n",
    "```"
   ]
  },
  {
   "cell_type": "markdown",
   "metadata": {},
   "source": [
    "### what we need"
   ]
  },
  {
   "cell_type": "markdown",
   "metadata": {},
   "source": [
    "- render_svg\n",
    "- svg_to_png\n",
    "- svg2paths (already defined in svgpathtools)"
   ]
  },
  {
   "cell_type": "code",
   "execution_count": 11,
   "metadata": {
    "collapsed": false
   },
   "outputs": [],
   "source": [
    "def render_svg(paths,\n",
    "               stroke_width = 5,\n",
    "               stroke_linecap = 'round',\n",
    "               stroke_color = 'black',   \n",
    "               viewbox=[0, 0, 300, 300],\n",
    "               out_dir = './svg',\n",
    "               out_fname= 'tmp.svg'):\n",
    "    \n",
    "    ## render out to svg file\n",
    "    print('Rendering out to {}'.format(os.path.join(out_dir,out_fname)))\n",
    "    if not os.path.exists(out_dir):\n",
    "        os.makedirs(out_dir)        \n",
    "    wsvg(paths,\n",
    "         attributes=[{'stroke-width':stroke_width,\\\n",
    "                      'stroke-linecap':stroke_linecap,\n",
    "                      'stroke':stroke_color}]*len(paths),\n",
    "         viewbox=viewbox,\n",
    "         filename=os.path.join(out_dir,out_fname))"
   ]
  },
  {
   "cell_type": "code",
   "execution_count": 12,
   "metadata": {
    "collapsed": false
   },
   "outputs": [
    {
     "name": "stdout",
     "output_type": "stream",
     "text": [
      "Rendering out to ./svg/tmp.svg\n"
     ]
    }
   ],
   "source": [
    "render_svg(parsed)"
   ]
  },
  {
   "cell_type": "code",
   "execution_count": 13,
   "metadata": {
    "collapsed": true
   },
   "outputs": [],
   "source": [
    "def svg_to_png(svg_paths,\n",
    "               out_dir = './png'):\n",
    "    '''\n",
    "    svg_paths: list of paths to svg files\n",
    "    '''\n",
    "    if not os.path.exists(out_dir):\n",
    "        os.makedirs(out_dir)\n",
    "    for path in svg_paths: \n",
    "        out_path = os.path.join(out_dir,'{}.png'.format(path.split('/')[1].split('.')[0]))\n",
    "        cmd_string = 'convert {} {}'.format(path,out_path)\n",
    "        print(cmd_string)\n",
    "        os.system(cmd_string)"
   ]
  },
  {
   "cell_type": "code",
   "execution_count": 14,
   "metadata": {
    "collapsed": false
   },
   "outputs": [
    {
     "name": "stdout",
     "output_type": "stream",
     "text": [
      "convert svg/test.svg ./png/test.png\n",
      "convert svg/tmp.svg ./png/tmp.png\n"
     ]
    }
   ],
   "source": [
    "svg_paths = [os.path.join('svg',i) for i in os.listdir('./svg')]\n",
    "svg_to_png(svg_paths)"
   ]
  },
  {
   "cell_type": "code",
   "execution_count": 15,
   "metadata": {
    "collapsed": false
   },
   "outputs": [
    {
     "data": {
      "text/plain": [
       "<module 'svg_rendering_helpers' from 'svg_rendering_helpers.pyc'>"
      ]
     },
     "execution_count": 15,
     "metadata": {},
     "output_type": "execute_result"
    }
   ],
   "source": [
    "reload(srh)\n",
    "# srh.render_svg(parsed,base_dir=proj_dir)"
   ]
  },
  {
   "cell_type": "code",
   "execution_count": null,
   "metadata": {
    "collapsed": false
   },
   "outputs": [],
   "source": [
    "srh.render_svg(parsed)"
   ]
  },
  {
   "cell_type": "code",
   "execution_count": null,
   "metadata": {
    "collapsed": false
   },
   "outputs": [],
   "source": [
    "svg_paths = [os.path.join('svg',i) for i in os.listdir('./svg')]\n",
    "srh.svg_to_png(svg_paths)"
   ]
  },
  {
   "cell_type": "code",
   "execution_count": null,
   "metadata": {
    "collapsed": true
   },
   "outputs": [],
   "source": []
  }
 ],
 "metadata": {
  "kernelspec": {
   "display_name": "Python 2",
   "language": "python",
   "name": "python2"
  },
  "language_info": {
   "codemirror_mode": {
    "name": "ipython",
    "version": 2
   },
   "file_extension": ".py",
   "mimetype": "text/x-python",
   "name": "python",
   "nbconvert_exporter": "python",
   "pygments_lexer": "ipython2",
   "version": "2.7.13"
  }
 },
 "nbformat": 4,
 "nbformat_minor": 1
}
