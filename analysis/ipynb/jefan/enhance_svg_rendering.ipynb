{
 "cells": [
  {
   "cell_type": "code",
   "execution_count": 5,
   "metadata": {
    "collapsed": true
   },
   "outputs": [],
   "source": [
    "from __future__ import division\n",
    "import os, sys\n",
    "import urllib, cStringIO\n",
    "import pymongo as pm ## first establish ssh tunnel to server where database is running\n",
    "import base64\n",
    "import numpy as np\n",
    "from numpy import *\n",
    "import PIL\n",
    "from PIL import Image\n",
    "import base64\n",
    "import matplotlib\n",
    "from matplotlib import pylab, mlab, pyplot\n",
    "from IPython.core.pylabtools import figsize, getfigs\n",
    "plt = pyplot\n",
    "import seaborn as sns\n",
    "sns.set_context('poster')\n",
    "sns.set_style('white')\n",
    "from matplotlib.path import Path\n",
    "import matplotlib.patches as patches\n",
    "\n",
    "import pandas as pd\n",
    "from svgpathtools import parse_path, wsvg, svg2paths"
   ]
  },
  {
   "cell_type": "markdown",
   "metadata": {},
   "source": [
    "### setup"
   ]
  },
  {
   "cell_type": "code",
   "execution_count": 6,
   "metadata": {
    "collapsed": false
   },
   "outputs": [
    {
     "data": {
      "text/plain": [
       "<module 'svg_rendering_helpers' from '/Users/judithfan/graphical_conventions/analysis/python/svg_rendering_helpers.pyc'>"
      ]
     },
     "execution_count": 6,
     "metadata": {},
     "output_type": "execute_result"
    }
   ],
   "source": [
    "# directory & file hierarchy\n",
    "proj_dir = os.path.abspath('../../..')\n",
    "analysis_dir = os.getcwd()\n",
    "results_dir = os.path.join(proj_dir,'results')\n",
    "plot_dir = os.path.join(results_dir,'plots')\n",
    "csv_dir = os.path.join(results_dir,'csv')\n",
    "exp_dir = os.path.abspath(os.path.join(proj_dir,'experiments'))\n",
    "sketch_dir = os.path.abspath(os.path.join(proj_dir,'sketches'))\n",
    "\n",
    "## add helpers to python path\n",
    "if os.path.join(proj_dir,'analysis','python') not in sys.path:\n",
    "    sys.path.insert(1,os.path.join(proj_dir,'analysis','python'))\n",
    "    \n",
    "if not os.path.exists(results_dir):\n",
    "    os.makedirs(results_dir)\n",
    "    \n",
    "if not os.path.exists(plot_dir):\n",
    "    os.makedirs(plot_dir)   \n",
    "    \n",
    "if not os.path.exists(csv_dir):\n",
    "    os.makedirs(csv_dir)       \n",
    "    \n",
    "# Assign variables within imported analysis helpers\n",
    "import analysis_helpers as h\n",
    "if sys.version_info[0]>=3:\n",
    "    from importlib import reload\n",
    "reload(h)\n",
    "\n",
    "import svg_rendering_helpers as srh\n",
    "reload(srh)"
   ]
  },
  {
   "cell_type": "code",
   "execution_count": 7,
   "metadata": {
    "collapsed": true
   },
   "outputs": [],
   "source": [
    "# set vars \n",
    "auth = pd.read_csv('auth.txt', header = None) # this auth.txt file contains the password for the sketchloop user\n",
    "pswd = auth.values[0][0]\n",
    "user = 'sketchloop'\n",
    "host = 'rxdhawkins.me' ## cocolab ip address\n",
    "\n",
    "# have to fix this to be able to analyze from local\n",
    "import pymongo as pm\n",
    "conn = pm.MongoClient('mongodb://sketchloop:' + pswd + '@127.0.0.1')\n",
    "db = conn['3dObjects']\n",
    "coll = db['graphical_conventions']\n",
    "\n",
    "# which iteration name should we use?\n",
    "## \"good\" iterations that we currently combine: ['run3_size4_waiting', 'run4_generalization']\n",
    "iterationNames = ['run3_size4_waiting', 'run4_generalization']"
   ]
  },
  {
   "cell_type": "markdown",
   "metadata": {},
   "source": [
    "### svg rendering"
   ]
  },
  {
   "cell_type": "code",
   "execution_count": 8,
   "metadata": {
    "collapsed": false
   },
   "outputs": [],
   "source": [
    "# list of all gameids across iterationNames\n",
    "gameids = coll.find({'iterationName': {'$in': iterationNames}}).distinct('gameid')"
   ]
  },
  {
   "cell_type": "code",
   "execution_count": 9,
   "metadata": {
    "collapsed": false
   },
   "outputs": [],
   "source": [
    "# sample game\n",
    "this_game = gameids[10]"
   ]
  },
  {
   "cell_type": "code",
   "execution_count": 10,
   "metadata": {
    "collapsed": true
   },
   "outputs": [],
   "source": [
    "# sample stroke recs from a trial\n",
    "this_trial = 2\n",
    "stroke_recs = coll.find({ '$and': [{'gameid': this_game}, \n",
    "                                   {'eventType': 'stroke'}, \n",
    "                                   {'trialNum':this_trial}]}).sort('time')"
   ]
  },
  {
   "cell_type": "code",
   "execution_count": 11,
   "metadata": {
    "collapsed": false
   },
   "outputs": [],
   "source": [
    "# get list of svgs\n",
    "svg_list = srh.make_svg_list(stroke_recs)"
   ]
  },
  {
   "cell_type": "code",
   "execution_count": 12,
   "metadata": {
    "collapsed": false
   },
   "outputs": [],
   "source": [
    "# grab sample stroke\n",
    "this_stroke = svg_list[0]"
   ]
  },
  {
   "cell_type": "code",
   "execution_count": 13,
   "metadata": {
    "collapsed": false
   },
   "outputs": [],
   "source": [
    "parsed1 = parse_path(svg_list[0])\n",
    "parsed2 = parse_path(svg_list[1])"
   ]
  },
  {
   "cell_type": "code",
   "execution_count": 14,
   "metadata": {
    "collapsed": false
   },
   "outputs": [],
   "source": [
    "## list of paths to render out in same svg\n",
    "parsed = [parsed1,parsed2]"
   ]
  },
  {
   "cell_type": "markdown",
   "metadata": {},
   "source": [
    "#### wsvg arguments\n",
    "```\n",
    "wsvg(paths=None, colors=None, filename=join, stroke_widths=None, nodes=None, node_colors=None, node_radii=None, openinbrowser=False, timestamp=False, margin_size=0.1, mindim=600, dimensions=None, viewbox=None, text=None, text_path=None, font_size=None, attributes=None, svg_attributes=None)\n",
    "```"
   ]
  },
  {
   "cell_type": "markdown",
   "metadata": {},
   "source": [
    "### what we need (tests on single sketches)"
   ]
  },
  {
   "cell_type": "markdown",
   "metadata": {},
   "source": [
    "- render_svg\n",
    "- svg_to_png\n",
    "- svg2paths (already defined in svgpathtools)"
   ]
  },
  {
   "cell_type": "code",
   "execution_count": 15,
   "metadata": {
    "collapsed": false
   },
   "outputs": [
    {
     "name": "stdout",
     "output_type": "stream",
     "text": [
      "Rendering out to svg/tmp.svg\n"
     ]
    }
   ],
   "source": [
    "reload(srh)\n",
    "## render out svg\n",
    "srh.render_svg(parsed,base_dir=sketch_dir)"
   ]
  },
  {
   "cell_type": "code",
   "execution_count": 16,
   "metadata": {
    "collapsed": false
   },
   "outputs": [],
   "source": [
    "## get svg path list\n",
    "svg_paths = srh.generate_svg_path_list(os.path.join(sketch_dir,'svg'))"
   ]
  },
  {
   "cell_type": "code",
   "execution_count": 17,
   "metadata": {
    "collapsed": false
   },
   "outputs": [
    {
     "name": "stdout",
     "output_type": "stream",
     "text": [
      "convert /Users/judithfan/graphical_conventions/sketches/svg/tmp.svg /Users/judithfan/graphical_conventions/sketches/png/Users.png\n"
     ]
    }
   ],
   "source": [
    "## convert to png\n",
    "srh.svg_to_png(svg_paths,base_dir=sketch_dir)"
   ]
  },
  {
   "cell_type": "code",
   "execution_count": 19,
   "metadata": {
    "collapsed": false
   },
   "outputs": [
    {
     "data": {
      "text/plain": [
       "8"
      ]
     },
     "execution_count": 19,
     "metadata": {},
     "output_type": "execute_result"
    }
   ],
   "source": [
    "\n"
   ]
  },
  {
   "cell_type": "markdown",
   "metadata": {},
   "source": [
    "### scratch space for scaling up to render out whole dataset "
   ]
  },
  {
   "cell_type": "code",
   "execution_count": 20,
   "metadata": {
    "collapsed": false
   },
   "outputs": [
    {
     "data": {
      "text/plain": [
       "[u'M60,178c0,29.70911 -9.59322,58.1695 -16,87c-0.65296,2.93834 -2.01484,21 -5,21',\n",
       " u'M61,177c39.5763,0 79.60696,5.71725 119,9c5.5946,0.46622 35,4.3235 35,1',\n",
       " u'M215,189c0,31.52135 0.18595,61.88431 -5,93c-2.32692,13.96149 -3,27.87705 -3,42c0,6.81803 -3,1.77014 -3,-2',\n",
       " u'M53,151c0,13.50457 28.31649,25.15824 38,30c19.67362,9.83681 111.5677,14.64846 126,-7c4.73132,-7.09698 4,-21.42011 4,-30',\n",
       " u'M98,57c0,31.97249 4.04764,61.38115 8,93c0.77779,6.2223 1.06638,30 4,30',\n",
       " u'M163,59c0,27.06224 -2.24522,55.05739 0,82c1.12236,13.46829 8,27.83413 8,41',\n",
       " u'M201,73c0,34.92156 2,68.27949 2,103',\n",
       " u'M67,57c13.21193,0 25.01952,-2.11545 38,-5c23.61457,-5.24768 49.7106,-8.42894 74,-6c9.00189,0.90019 56,21.88598 56,31']"
      ]
     },
     "execution_count": 20,
     "metadata": {},
     "output_type": "execute_result"
    }
   ],
   "source": [
    "svg_list"
   ]
  },
  {
   "cell_type": "code",
   "execution_count": 21,
   "metadata": {
    "collapsed": true
   },
   "outputs": [],
   "source": [
    "svg_list_2 = [u'M87,105c0,-10.99517 24.80021,-15 32,-15c18.28964,0 41.9874,-5.00252 62,-1c6.36137,1.27227 13.72953,13 18,13',\n",
    " u'M109,94c0,-3.93189 7,6.18808 7,10c0,10.12106 4,16.33181 4,27',\n",
    " u'M165,92c0,-2.38519 4.92395,11.78271 5,12c3.95196,11.29132 7,27.32601 7,38']"
   ]
  },
  {
   "cell_type": "code",
   "execution_count": 22,
   "metadata": {
    "collapsed": true
   },
   "outputs": [],
   "source": [
    "parsed3 = [parse_path(i) for i in svg_list_2]\n"
   ]
  },
  {
   "cell_type": "code",
   "execution_count": 23,
   "metadata": {
    "collapsed": false
   },
   "outputs": [
    {
     "data": {
      "text/plain": [
       "[Path(CubicBezier(start=(87+105j), control1=(87+94.00483j), control2=(111.80021+90j), end=(119+90j)),\n",
       "      CubicBezier(start=(119+90j), control1=(137.28964+90j), control2=(160.9874+84.99748j), end=(181+89j)),\n",
       "      CubicBezier(start=(181+89j), control1=(187.36137+90.27227j), control2=(194.72953+102j), end=(199+102j))),\n",
       " Path(CubicBezier(start=(109+94j), control1=(109+90.06811j), control2=(116+100.18808j), end=(116+104j)),\n",
       "      CubicBezier(start=(116+104j), control1=(116+114.12106j), control2=(120+120.33181j), end=(120+131j))),\n",
       " Path(CubicBezier(start=(165+92j), control1=(165+89.61481j), control2=(169.92395+103.78271j), end=(170+104j)),\n",
       "      CubicBezier(start=(170+104j), control1=(173.95196+115.29132j), control2=(177+131.32601j), end=(177+142j)))]"
      ]
     },
     "execution_count": 23,
     "metadata": {},
     "output_type": "execute_result"
    }
   ],
   "source": [
    "parsed3"
   ]
  },
  {
   "cell_type": "code",
   "execution_count": 24,
   "metadata": {
    "collapsed": false
   },
   "outputs": [
    {
     "name": "stdout",
     "output_type": "stream",
     "text": [
      "Rendering out to svg/tmp.svg\n"
     ]
    }
   ],
   "source": [
    "srh.render_svg(parsed3,base_dir=sketch_dir)"
   ]
  },
  {
   "cell_type": "code",
   "execution_count": null,
   "metadata": {
    "collapsed": true
   },
   "outputs": [],
   "source": []
  }
 ],
 "metadata": {
  "kernelspec": {
   "display_name": "Python 2",
   "language": "python",
   "name": "python2"
  },
  "language_info": {
   "codemirror_mode": {
    "name": "ipython",
    "version": 2
   },
   "file_extension": ".py",
   "mimetype": "text/x-python",
   "name": "python",
   "nbconvert_exporter": "python",
   "pygments_lexer": "ipython2",
   "version": "2.7.13"
  }
 },
 "nbformat": 4,
 "nbformat_minor": 1
}
